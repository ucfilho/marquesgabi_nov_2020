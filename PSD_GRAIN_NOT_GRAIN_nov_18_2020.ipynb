{
  "nbformat": 4,
  "nbformat_minor": 0,
  "metadata": {
    "colab": {
      "name": "PSD_GRAIN_NOT_GRAIN_nov_18_2020.ipynb",
      "provenance": [],
      "collapsed_sections": [],
      "include_colab_link": true
    },
    "kernelspec": {
      "name": "python3",
      "display_name": "Python 3"
    }
  },
  "cells": [
    {
      "cell_type": "markdown",
      "metadata": {
        "id": "view-in-github",
        "colab_type": "text"
      },
      "source": [
        "<a href=\"https://colab.research.google.com/github/ucfilho/marquesgabi_nov_2020/blob/main/PSD_GRAIN_NOT_GRAIN_nov_18_2020.ipynb\" target=\"_parent\"><img src=\"https://colab.research.google.com/assets/colab-badge.svg\" alt=\"Open In Colab\"/></a>"
      ]
    },
    {
      "cell_type": "code",
      "metadata": {
        "id": "Sog7Z9pyhUD_",
        "colab": {
          "base_uri": "https://localhost:8080/"
        },
        "outputId": "36f603ae-d7f1-44ee-8879-a2d46c7e51f3"
      },
      "source": [
        "import matplotlib.pyplot as plt\n",
        "import numpy as np\n",
        "import cv2\n",
        "import zipfile\n",
        "#import random\n",
        "from random import randint\n",
        "from PIL import Image\n",
        "import re\n",
        "from sklearn.model_selection import train_test_split\n",
        "#import scikit-image\n",
        "import skimage\n",
        "import pandas as pd\n",
        "import statsmodels.api as sm\n",
        "import statsmodels.formula.api as smf"
      ],
      "execution_count": 1,
      "outputs": [
        {
          "output_type": "stream",
          "text": [
            "/usr/local/lib/python3.6/dist-packages/statsmodels/tools/_testing.py:19: FutureWarning: pandas.util.testing is deprecated. Use the functions in the public API at pandas.testing instead.\n",
            "  import pandas.util.testing as tm\n"
          ],
          "name": "stderr"
        }
      ]
    },
    {
      "cell_type": "code",
      "metadata": {
        "id": "uZEvJvfoibE4",
        "colab": {
          "base_uri": "https://localhost:8080/"
        },
        "outputId": "4f0edc07-7079-489d-d539-3e1499eb503f"
      },
      "source": [
        "!pip install mahotas"
      ],
      "execution_count": 2,
      "outputs": [
        {
          "output_type": "stream",
          "text": [
            "Requirement already satisfied: mahotas in /usr/local/lib/python3.6/dist-packages (1.4.11)\n",
            "Requirement already satisfied: numpy in /usr/local/lib/python3.6/dist-packages (from mahotas) (1.18.5)\n"
          ],
          "name": "stdout"
        }
      ]
    },
    {
      "cell_type": "code",
      "metadata": {
        "id": "_VcTdaNVh9EE",
        "colab": {
          "base_uri": "https://localhost:8080/"
        },
        "outputId": "678189e3-530b-404c-ae03-83a71c7d700a"
      },
      "source": [
        "!git clone https://github.com/ucfilho/marquesgabi_fev_2020 #clonar do Github\n",
        "%cd marquesgabi_fev_2020\n",
        "import Go2BlackWhite\n",
        "import Go2Mahotas"
      ],
      "execution_count": 3,
      "outputs": [
        {
          "output_type": "stream",
          "text": [
            "fatal: destination path 'marquesgabi_fev_2020' already exists and is not an empty directory.\n",
            "/content/marquesgabi_fev_2020\n"
          ],
          "name": "stdout"
        }
      ]
    },
    {
      "cell_type": "code",
      "metadata": {
        "id": "nf_a6PJ1iUnT"
      },
      "source": [
        "import mahotas.features.texture as mht\n",
        "import mahotas.features"
      ],
      "execution_count": 4,
      "outputs": []
    },
    {
      "cell_type": "code",
      "metadata": {
        "id": "wj62HANgnpnR",
        "colab": {
          "base_uri": "https://localhost:8080/"
        },
        "outputId": "22e51a8e-8e1a-4a66-d712-aeb5e4202480"
      },
      "source": [
        "!git clone https://github.com/ucfilho/marquesgabi_out_2020/\n",
        "%cd marquesgabi_out_2020\n",
        "\n",
        "from Get_PSDArea import PSDArea\n",
        "from histogram import PSD\n",
        "from GetBetterSegm import GetBetter"
      ],
      "execution_count": 5,
      "outputs": [
        {
          "output_type": "stream",
          "text": [
            "fatal: destination path 'marquesgabi_out_2020' already exists and is not an empty directory.\n",
            "/content/marquesgabi_fev_2020/marquesgabi_out_2020\n"
          ],
          "name": "stdout"
        }
      ]
    },
    {
      "cell_type": "code",
      "metadata": {
        "id": "8L6KJ4jc3ahG",
        "colab": {
          "base_uri": "https://localhost:8080/"
        },
        "outputId": "d1a87dd9-4fd1-4b4a-b03d-b8d724eb14f7"
      },
      "source": [
        "!ls"
      ],
      "execution_count": 6,
      "outputs": [
        {
          "output_type": "stream",
          "text": [
            "Areas_ImageJ.csv\t\t IMAGEJ_Zuados.zip\n",
            "Areas_ImageJ.xlsx\t\t PSD_GRAIN_NOT_GRAIN_nov_13_2020.ipynb\n",
            "Doutorado\t\t\t PSD_GRAIN_NOT_GRAIN_out_09_2020.ipynb\n",
            "GetBetterSegm.py\t\t PSD_GRAIN_NOT_GRAIN_out_19_2020.ipynb\n",
            "Get_PSDArea.py\t\t\t PSD_GRAIN_NOT_GRAIN_out_28_2020.ipynb\n",
            "Histogram_PSD_out_19_2020.ipynb  PSD_USA_ROTINAS_out_05_2020.ipynb\n",
            "Histogram_PSD_out_23_2020.ipynb  __pycache__\n",
            "histogram.py\t\t\t README.md\n",
            "imageJ_jpg.zip\t\t\t Teste\n"
          ],
          "name": "stdout"
        }
      ]
    },
    {
      "cell_type": "code",
      "metadata": {
        "id": "1v7SRrc8mH2N",
        "colab": {
          "base_uri": "https://localhost:8080/"
        },
        "outputId": "4276d1f3-7867-4fda-941c-456bb1178f7a"
      },
      "source": [
        "!git clone https://github.com/marquesgabi/Doutorado\n",
        "%cd Doutorado\n",
        "\n",
        "Transfere='Fotos_Grandes_3cdAmostra.zip'\n",
        "file_name = zipfile.ZipFile(Transfere, 'r')\n",
        "file_name.extractall()"
      ],
      "execution_count": 7,
      "outputs": [
        {
          "output_type": "stream",
          "text": [
            "fatal: destination path 'Doutorado' already exists and is not an empty directory.\n",
            "/content/marquesgabi_fev_2020/marquesgabi_out_2020/Doutorado\n"
          ],
          "name": "stdout"
        }
      ]
    },
    {
      "cell_type": "code",
      "metadata": {
        "id": "0kA4IWSmasoD"
      },
      "source": [
        "Size=1200 # tamanho da foto\n",
        "ww,img_name=Go2BlackWhite.BlackWhite(Transfere,Size) #Pegamos a primeira foto Grande\n",
        "img=ww[0] \n",
        "# this is the big image we want to segment \n",
        "# ww[0], change it if you want to segment another picture"
      ],
      "execution_count": 8,
      "outputs": []
    },
    {
      "cell_type": "code",
      "metadata": {
        "id": "g_k1Ktz3izJv",
        "colab": {
          "base_uri": "https://localhost:8080/"
        },
        "outputId": "55d3765b-44ae-45f3-b244-0d9c154357b1"
      },
      "source": [
        "!git clone https://github.com/marquesgabi/Doutorado\n",
        "# %cd Doutorado\n",
        "Transfere='FotosTreino882_and_Segm.zip'\n",
        "file_name = zipfile.ZipFile(Transfere, 'r')\n",
        "file_name.extractall()\n",
        "\n",
        "\"\"\"# First step: get the segmented file (photos stored in csv file)\"\"\"\n",
        "\n",
        "labels = [] #name files\n",
        "\n",
        "with zipfile.ZipFile(Transfere, \"r\") as f:\n",
        "  for f in f.namelist():\n",
        "    labels.append(f)\n",
        "\n",
        "Num=len(labels)\n",
        "df=pd.read_csv(labels[0])\n",
        "for i in range(1,Num):\n",
        "  df_new=pd.read_csv(labels[i])\n",
        "  df_new = df_new[~df_new['Type'].isin(['G'])] # drop grain row which is not in 882\n",
        "  frames = [df, df_new]\n",
        "  df= pd.concat(frames, ignore_index=True)"
      ],
      "execution_count": 9,
      "outputs": [
        {
          "output_type": "stream",
          "text": [
            "fatal: destination path 'Doutorado' already exists and is not an empty directory.\n"
          ],
          "name": "stdout"
        }
      ]
    },
    {
      "cell_type": "code",
      "metadata": {
        "id": "tHgqAnaFyCjp",
        "colab": {
          "base_uri": "https://localhost:8080/"
        },
        "outputId": "0032174c-1ab0-45d4-d068-acdbecc5981d"
      },
      "source": [
        "!git clone https://github.com/ucfilho/marquesgabi_set_2020\n",
        "%cd marquesgabi_set_2020"
      ],
      "execution_count": 10,
      "outputs": [
        {
          "output_type": "stream",
          "text": [
            "fatal: destination path 'marquesgabi_set_2020' already exists and is not an empty directory.\n",
            "/content/marquesgabi_fev_2020/marquesgabi_out_2020/Doutorado/marquesgabi_set_2020\n"
          ],
          "name": "stdout"
        }
      ]
    },
    {
      "cell_type": "code",
      "metadata": {
        "id": "qc4rFvzkyWCi"
      },
      "source": [
        "from big_segment import Segmenta  # got image provided segmented\n",
        "from ANN_FIND_GRAIN import AnnGrain  # got image provided segmented\n",
        "from psd_mahotas import Mahotas"
      ],
      "execution_count": 11,
      "outputs": []
    },
    {
      "cell_type": "code",
      "metadata": {
        "id": "YPoCxCp4kuRm",
        "colab": {
          "base_uri": "https://localhost:8080/"
        },
        "outputId": "de2c2ca1-511b-44c4-fea4-e0a5a84d3cd3"
      },
      "source": [
        "!git clone https://github.com/marquesgabi/Doutorado\n",
        "%cd Doutorado\n",
        "Transfere='FotosTreino882_and_Segm.zip'\n",
        "file_name = zipfile.ZipFile(Transfere, 'r')\n",
        "file_name.extractall()\n",
        "\n",
        "\"\"\"# First step: get the segmented file (photos stored in csv file)\"\"\"\n",
        "\n",
        "labels = [] #name files\n",
        "\n",
        "with zipfile.ZipFile(Transfere, \"r\") as f:\n",
        "  for f in f.namelist():\n",
        "    labels.append(f)\n",
        "\n",
        "Num=len(labels)\n",
        "ANN_dat=pd.read_csv(labels[0])\n",
        "for i in range(1,Num):\n",
        "  df_new=pd.read_csv(labels[i])\n",
        "  df_new = df_new[~df_new['Type'].isin(['G'])] # drop grain row which is not in 882\n",
        "  frames = [ANN_dat, df_new]\n",
        "  ANN_dat= pd.concat(frames, ignore_index=True)"
      ],
      "execution_count": 12,
      "outputs": [
        {
          "output_type": "stream",
          "text": [
            "fatal: destination path 'Doutorado' already exists and is not an empty directory.\n",
            "/content/marquesgabi_fev_2020/marquesgabi_out_2020/Doutorado/marquesgabi_set_2020/Doutorado\n"
          ],
          "name": "stdout"
        }
      ]
    },
    {
      "cell_type": "code",
      "metadata": {
        "id": "SnTtH3KDP863"
      },
      "source": [
        "df=Segmenta(img)\n"
      ],
      "execution_count": 13,
      "outputs": []
    },
    {
      "cell_type": "code",
      "metadata": {
        "id": "0Nm-Uwb9qwBK",
        "colab": {
          "base_uri": "https://localhost:8080/"
        },
        "outputId": "dbc962e7-d742-4236-eb30-1407e08a1a75"
      },
      "source": [
        "print(df)"
      ],
      "execution_count": 14,
      "outputs": [
        {
          "output_type": "stream",
          "text": [
            "    Width           0           1  ...         781         782         783\n",
            "0     117   46.585434   42.051865  ...   33.448685   31.591862   32.758202\n",
            "1     197   64.307106   72.591362  ...    5.958025    5.993378    5.686749\n",
            "2     198  100.518410  101.610550  ...   87.536774   84.512184   89.408424\n",
            "3     189   60.406036   61.001369  ...    6.278463    7.471879    6.747600\n",
            "4     187  121.647064  109.704643  ...    0.112900    0.000000    0.188167\n",
            "..    ...         ...         ...  ...         ...         ...         ...\n",
            "45    187  100.273582  100.860214  ...    0.562098    0.658984    0.463611\n",
            "46    129    0.827775    5.150832  ...  107.675980  111.384293  110.500816\n",
            "47    185   54.137150   51.286362  ...    9.773732    1.536099    0.146706\n",
            "48    158   66.073219   62.219036  ...    0.000000    0.000000    0.251242\n",
            "49    188   51.531006   65.364868  ...   46.232685   26.649162   35.289722\n",
            "\n",
            "[150 rows x 785 columns]\n"
          ],
          "name": "stdout"
        }
      ]
    },
    {
      "cell_type": "code",
      "metadata": {
        "id": "NisVTw0QfAqC",
        "colab": {
          "base_uri": "https://localhost:8080/"
        },
        "outputId": "8dcadce8-55f5-4416-990e-44255220686d"
      },
      "source": [
        "y_pred,confusion_matrix,METRICS=AnnGrain(ANN_dat,df.drop('Width',axis=1)) \n"
      ],
      "execution_count": 15,
      "outputs": [
        {
          "output_type": "stream",
          "text": [
            "Epoch 1/200\n",
            "WARNING:tensorflow:Model was constructed with shape (None, 28, 28) for input Tensor(\"flatten_input:0\", shape=(None, 28, 28), dtype=float32), but it was called on an input with incompatible shape (None, 784).\n",
            "WARNING:tensorflow:Model was constructed with shape (None, 28, 28) for input Tensor(\"flatten_input:0\", shape=(None, 28, 28), dtype=float32), but it was called on an input with incompatible shape (None, 784).\n",
            "11/11 [==============================] - 0s 2ms/step - loss: 7.6233 - accuracy: 0.4519\n",
            "Epoch 2/200\n",
            "11/11 [==============================] - 0s 2ms/step - loss: 0.9531 - accuracy: 0.5073\n",
            "Epoch 3/200\n",
            "11/11 [==============================] - 0s 2ms/step - loss: 1.1982 - accuracy: 0.4956\n",
            "Epoch 4/200\n",
            "11/11 [==============================] - 0s 2ms/step - loss: 0.8088 - accuracy: 0.5044\n",
            "Epoch 5/200\n",
            "11/11 [==============================] - 0s 2ms/step - loss: 0.6113 - accuracy: 0.5569\n",
            "Epoch 6/200\n",
            "11/11 [==============================] - 0s 2ms/step - loss: 0.8485 - accuracy: 0.5423\n",
            "Epoch 7/200\n",
            "11/11 [==============================] - 0s 2ms/step - loss: 1.0197 - accuracy: 0.4956\n",
            "Epoch 8/200\n",
            "11/11 [==============================] - 0s 2ms/step - loss: 0.8120 - accuracy: 0.5102\n",
            "Epoch 9/200\n",
            "11/11 [==============================] - 0s 2ms/step - loss: 0.4422 - accuracy: 0.6618\n",
            "Epoch 10/200\n",
            "11/11 [==============================] - 0s 2ms/step - loss: 0.3792 - accuracy: 0.8047\n",
            "Epoch 11/200\n",
            "11/11 [==============================] - 0s 2ms/step - loss: 0.9558 - accuracy: 0.4956\n",
            "Epoch 12/200\n",
            "11/11 [==============================] - 0s 2ms/step - loss: 0.5577 - accuracy: 0.6210\n",
            "Epoch 13/200\n",
            "11/11 [==============================] - 0s 2ms/step - loss: 2.3720 - accuracy: 0.6501\n",
            "Epoch 14/200\n",
            "11/11 [==============================] - 0s 2ms/step - loss: 5.6276 - accuracy: 0.4956\n",
            "Epoch 15/200\n",
            "11/11 [==============================] - 0s 2ms/step - loss: 6.3570 - accuracy: 0.4956\n",
            "Epoch 16/200\n",
            "11/11 [==============================] - 0s 2ms/step - loss: 5.6933 - accuracy: 0.4956\n",
            "Epoch 17/200\n",
            "11/11 [==============================] - 0s 2ms/step - loss: 4.6172 - accuracy: 0.4956\n",
            "Epoch 18/200\n",
            "11/11 [==============================] - 0s 2ms/step - loss: 3.4065 - accuracy: 0.4956\n",
            "Epoch 19/200\n",
            "11/11 [==============================] - 0s 2ms/step - loss: 2.2014 - accuracy: 0.4956\n",
            "Epoch 20/200\n",
            "11/11 [==============================] - 0s 2ms/step - loss: 1.0233 - accuracy: 0.5306\n",
            "Epoch 21/200\n",
            "11/11 [==============================] - 0s 2ms/step - loss: 0.3057 - accuracy: 0.8601\n",
            "Epoch 22/200\n",
            "11/11 [==============================] - 0s 2ms/step - loss: 0.5800 - accuracy: 0.9534\n",
            "Epoch 23/200\n",
            "11/11 [==============================] - 0s 2ms/step - loss: 1.7668 - accuracy: 0.4956\n",
            "Epoch 24/200\n",
            "11/11 [==============================] - 0s 2ms/step - loss: 2.1172 - accuracy: 0.4956\n",
            "Epoch 25/200\n",
            "11/11 [==============================] - 0s 2ms/step - loss: 1.2529 - accuracy: 0.5248\n",
            "Epoch 26/200\n",
            "11/11 [==============================] - 0s 2ms/step - loss: 0.4622 - accuracy: 0.7143\n",
            "Epoch 27/200\n",
            "11/11 [==============================] - 0s 2ms/step - loss: 0.1827 - accuracy: 0.9825\n",
            "Epoch 28/200\n",
            "11/11 [==============================] - 0s 2ms/step - loss: 0.1311 - accuracy: 0.9971\n",
            "Epoch 29/200\n",
            "11/11 [==============================] - 0s 2ms/step - loss: 0.0994 - accuracy: 1.0000\n",
            "Epoch 30/200\n",
            "11/11 [==============================] - 0s 2ms/step - loss: 0.1093 - accuracy: 0.9971\n",
            "Epoch 31/200\n",
            "11/11 [==============================] - 0s 3ms/step - loss: 0.1446 - accuracy: 0.9971\n",
            "Epoch 32/200\n",
            "11/11 [==============================] - 0s 2ms/step - loss: 0.1085 - accuracy: 1.0000\n",
            "Epoch 33/200\n",
            "11/11 [==============================] - 0s 2ms/step - loss: 0.1391 - accuracy: 0.9971\n",
            "Epoch 34/200\n",
            "11/11 [==============================] - 0s 3ms/step - loss: 0.2250 - accuracy: 0.9184\n",
            "Epoch 35/200\n",
            "11/11 [==============================] - 0s 2ms/step - loss: 0.2158 - accuracy: 0.9417\n",
            "Epoch 36/200\n",
            "11/11 [==============================] - 0s 2ms/step - loss: 0.1089 - accuracy: 1.0000\n",
            "Epoch 37/200\n",
            "11/11 [==============================] - 0s 2ms/step - loss: 0.0717 - accuracy: 0.9971\n",
            "Epoch 38/200\n",
            "11/11 [==============================] - 0s 2ms/step - loss: 0.1118 - accuracy: 1.0000\n",
            "Epoch 39/200\n",
            "11/11 [==============================] - 0s 2ms/step - loss: 0.0937 - accuracy: 1.0000\n",
            "Epoch 40/200\n",
            "11/11 [==============================] - 0s 2ms/step - loss: 0.0604 - accuracy: 1.0000\n",
            "Epoch 41/200\n",
            "11/11 [==============================] - 0s 2ms/step - loss: 0.2225 - accuracy: 0.9359\n",
            "Epoch 42/200\n",
            "11/11 [==============================] - 0s 2ms/step - loss: 0.3498 - accuracy: 0.7813\n",
            "Epoch 43/200\n",
            "11/11 [==============================] - 0s 3ms/step - loss: 0.1883 - accuracy: 0.9563\n",
            "Epoch 44/200\n",
            "11/11 [==============================] - 0s 2ms/step - loss: 0.1230 - accuracy: 0.9971\n",
            "Epoch 45/200\n",
            "11/11 [==============================] - 0s 2ms/step - loss: 0.1667 - accuracy: 0.9504\n",
            "Epoch 46/200\n",
            "11/11 [==============================] - 0s 2ms/step - loss: 0.2381 - accuracy: 0.9009\n",
            "Epoch 47/200\n",
            "11/11 [==============================] - 0s 2ms/step - loss: 0.1198 - accuracy: 1.0000\n",
            "Epoch 48/200\n",
            "11/11 [==============================] - 0s 2ms/step - loss: 0.0806 - accuracy: 0.9971\n",
            "Epoch 49/200\n",
            "11/11 [==============================] - 0s 2ms/step - loss: 0.1300 - accuracy: 1.0000\n",
            "Epoch 50/200\n",
            "11/11 [==============================] - 0s 2ms/step - loss: 0.1229 - accuracy: 0.9971\n",
            "Epoch 51/200\n",
            "11/11 [==============================] - 0s 3ms/step - loss: 0.0695 - accuracy: 1.0000\n",
            "Epoch 52/200\n",
            "11/11 [==============================] - 0s 2ms/step - loss: 0.0699 - accuracy: 0.9971\n",
            "Epoch 53/200\n",
            "11/11 [==============================] - 0s 2ms/step - loss: 0.1950 - accuracy: 0.9359\n",
            "Epoch 54/200\n",
            "11/11 [==============================] - 0s 2ms/step - loss: 0.2522 - accuracy: 0.8776\n",
            "Epoch 55/200\n",
            "11/11 [==============================] - 0s 3ms/step - loss: 0.1121 - accuracy: 0.9971\n",
            "Epoch 56/200\n",
            "11/11 [==============================] - 0s 2ms/step - loss: 0.0464 - accuracy: 1.0000\n",
            "Epoch 57/200\n",
            "11/11 [==============================] - 0s 2ms/step - loss: 0.6829 - accuracy: 0.8397\n",
            "Epoch 58/200\n",
            "11/11 [==============================] - 0s 2ms/step - loss: 4.3227 - accuracy: 0.4956\n",
            "Epoch 59/200\n",
            "11/11 [==============================] - 0s 2ms/step - loss: 5.0092 - accuracy: 0.4956\n",
            "Epoch 60/200\n",
            "11/11 [==============================] - 0s 2ms/step - loss: 3.8450 - accuracy: 0.4956\n",
            "Epoch 61/200\n",
            "11/11 [==============================] - 0s 2ms/step - loss: 2.2788 - accuracy: 0.5219\n",
            "Epoch 62/200\n",
            "11/11 [==============================] - 0s 2ms/step - loss: 0.7658 - accuracy: 0.6356\n",
            "Epoch 63/200\n",
            "11/11 [==============================] - 0s 2ms/step - loss: 0.1253 - accuracy: 0.9767\n",
            "Epoch 64/200\n",
            "11/11 [==============================] - 0s 2ms/step - loss: 0.1459 - accuracy: 0.9971\n",
            "Epoch 65/200\n",
            "11/11 [==============================] - 0s 3ms/step - loss: 0.0837 - accuracy: 1.0000\n",
            "Epoch 66/200\n",
            "11/11 [==============================] - 0s 2ms/step - loss: 0.0684 - accuracy: 1.0000\n",
            "Epoch 67/200\n",
            "11/11 [==============================] - 0s 2ms/step - loss: 0.0452 - accuracy: 1.0000\n",
            "Epoch 68/200\n",
            "11/11 [==============================] - 0s 2ms/step - loss: 0.0301 - accuracy: 1.0000\n",
            "Epoch 69/200\n",
            "11/11 [==============================] - 0s 2ms/step - loss: 0.0387 - accuracy: 0.9971\n",
            "Epoch 70/200\n",
            "11/11 [==============================] - 0s 2ms/step - loss: 0.0856 - accuracy: 1.0000\n",
            "Epoch 71/200\n",
            "11/11 [==============================] - 0s 2ms/step - loss: 0.0844 - accuracy: 1.0000\n",
            "Epoch 72/200\n",
            "11/11 [==============================] - 0s 2ms/step - loss: 0.0520 - accuracy: 1.0000\n",
            "Epoch 73/200\n",
            "11/11 [==============================] - 0s 2ms/step - loss: 0.0329 - accuracy: 1.0000\n",
            "Epoch 74/200\n",
            "11/11 [==============================] - 0s 2ms/step - loss: 0.0303 - accuracy: 0.9971\n",
            "Epoch 75/200\n",
            "11/11 [==============================] - 0s 2ms/step - loss: 0.0703 - accuracy: 1.0000\n",
            "Epoch 76/200\n",
            "11/11 [==============================] - 0s 2ms/step - loss: 0.0916 - accuracy: 1.0000\n",
            "Epoch 77/200\n",
            "11/11 [==============================] - 0s 2ms/step - loss: 0.0606 - accuracy: 1.0000\n",
            "Epoch 78/200\n",
            "11/11 [==============================] - 0s 2ms/step - loss: 0.0368 - accuracy: 1.0000\n",
            "Epoch 79/200\n",
            "11/11 [==============================] - 0s 2ms/step - loss: 0.0246 - accuracy: 1.0000\n",
            "Epoch 80/200\n",
            "11/11 [==============================] - 0s 2ms/step - loss: 0.0186 - accuracy: 1.0000\n",
            "Epoch 81/200\n",
            "11/11 [==============================] - 0s 2ms/step - loss: 0.0340 - accuracy: 0.9971\n",
            "Epoch 82/200\n",
            "11/11 [==============================] - 0s 2ms/step - loss: 0.1549 - accuracy: 0.9388\n",
            "Epoch 83/200\n",
            "11/11 [==============================] - 0s 2ms/step - loss: 0.1404 - accuracy: 0.9679\n",
            "Epoch 84/200\n",
            "11/11 [==============================] - 0s 2ms/step - loss: 0.0540 - accuracy: 1.0000\n",
            "Epoch 85/200\n",
            "11/11 [==============================] - 0s 2ms/step - loss: 0.0256 - accuracy: 1.0000\n",
            "Epoch 86/200\n",
            "11/11 [==============================] - 0s 2ms/step - loss: 0.0170 - accuracy: 1.0000\n",
            "Epoch 87/200\n",
            "11/11 [==============================] - 0s 2ms/step - loss: 0.0633 - accuracy: 0.9971\n",
            "Epoch 88/200\n",
            "11/11 [==============================] - 0s 2ms/step - loss: 0.4224 - accuracy: 0.7843\n",
            "Epoch 89/200\n",
            "11/11 [==============================] - 0s 2ms/step - loss: 0.5554 - accuracy: 0.6968\n",
            "Epoch 90/200\n",
            "11/11 [==============================] - 0s 2ms/step - loss: 0.1636 - accuracy: 0.9446\n",
            "Epoch 91/200\n",
            "11/11 [==============================] - 0s 2ms/step - loss: 0.0350 - accuracy: 1.0000\n",
            "Epoch 92/200\n",
            "11/11 [==============================] - 0s 2ms/step - loss: 0.0168 - accuracy: 1.0000\n",
            "Epoch 93/200\n",
            "11/11 [==============================] - 0s 3ms/step - loss: 0.0127 - accuracy: 1.0000\n",
            "Epoch 94/200\n",
            "11/11 [==============================] - 0s 3ms/step - loss: 0.0134 - accuracy: 1.0000\n",
            "Epoch 95/200\n",
            "11/11 [==============================] - 0s 3ms/step - loss: 0.0141 - accuracy: 1.0000\n",
            "Epoch 96/200\n",
            "11/11 [==============================] - 0s 2ms/step - loss: 0.0131 - accuracy: 1.0000\n",
            "Epoch 97/200\n",
            "11/11 [==============================] - 0s 2ms/step - loss: 0.0117 - accuracy: 1.0000\n",
            "Epoch 98/200\n",
            "11/11 [==============================] - 0s 2ms/step - loss: 0.0213 - accuracy: 0.9971\n",
            "Epoch 99/200\n",
            "11/11 [==============================] - 0s 2ms/step - loss: 0.1069 - accuracy: 0.9942\n",
            "Epoch 100/200\n",
            "11/11 [==============================] - 0s 2ms/step - loss: 0.1119 - accuracy: 0.9942\n",
            "Epoch 101/200\n",
            "11/11 [==============================] - 0s 2ms/step - loss: 0.0573 - accuracy: 1.0000\n",
            "Epoch 102/200\n",
            "11/11 [==============================] - 0s 3ms/step - loss: 0.0283 - accuracy: 1.0000\n",
            "Epoch 103/200\n",
            "11/11 [==============================] - 0s 2ms/step - loss: 0.0185 - accuracy: 1.0000\n",
            "Epoch 104/200\n",
            "11/11 [==============================] - 0s 2ms/step - loss: 0.0142 - accuracy: 1.0000\n",
            "Epoch 105/200\n",
            "11/11 [==============================] - 0s 2ms/step - loss: 0.0117 - accuracy: 1.0000\n",
            "Epoch 106/200\n",
            "11/11 [==============================] - 0s 2ms/step - loss: 0.0450 - accuracy: 0.9971\n",
            "Epoch 107/200\n",
            "11/11 [==============================] - 0s 3ms/step - loss: 0.2166 - accuracy: 0.8980\n",
            "Epoch 108/200\n",
            "11/11 [==============================] - 0s 2ms/step - loss: 0.1632 - accuracy: 0.9417\n",
            "Epoch 109/200\n",
            "11/11 [==============================] - 0s 2ms/step - loss: 0.0534 - accuracy: 1.0000\n",
            "Epoch 110/200\n",
            "11/11 [==============================] - 0s 3ms/step - loss: 0.0227 - accuracy: 1.0000\n",
            "Epoch 111/200\n",
            "11/11 [==============================] - 0s 2ms/step - loss: 0.0146 - accuracy: 1.0000\n",
            "Epoch 112/200\n",
            "11/11 [==============================] - 0s 2ms/step - loss: 0.0112 - accuracy: 1.0000\n",
            "Epoch 113/200\n",
            "11/11 [==============================] - 0s 2ms/step - loss: 0.0095 - accuracy: 1.0000\n",
            "Epoch 114/200\n",
            "11/11 [==============================] - 0s 2ms/step - loss: 0.0087 - accuracy: 1.0000\n",
            "Epoch 115/200\n",
            "11/11 [==============================] - 0s 2ms/step - loss: 0.0129 - accuracy: 1.0000\n",
            "Epoch 116/200\n",
            "11/11 [==============================] - 0s 2ms/step - loss: 0.0218 - accuracy: 1.0000\n",
            "Epoch 117/200\n",
            "11/11 [==============================] - 0s 2ms/step - loss: 0.0225 - accuracy: 1.0000\n",
            "Epoch 118/200\n",
            "11/11 [==============================] - 0s 2ms/step - loss: 0.0184 - accuracy: 1.0000\n",
            "Epoch 119/200\n",
            "11/11 [==============================] - 0s 3ms/step - loss: 0.0149 - accuracy: 1.0000\n",
            "Epoch 120/200\n",
            "11/11 [==============================] - 0s 2ms/step - loss: 0.0122 - accuracy: 1.0000\n",
            "Epoch 121/200\n",
            "11/11 [==============================] - 0s 2ms/step - loss: 0.0102 - accuracy: 1.0000\n",
            "Epoch 122/200\n",
            "11/11 [==============================] - 0s 2ms/step - loss: 0.0089 - accuracy: 1.0000\n",
            "Epoch 123/200\n",
            "11/11 [==============================] - 0s 2ms/step - loss: 0.0079 - accuracy: 1.0000\n",
            "Epoch 124/200\n",
            "11/11 [==============================] - 0s 2ms/step - loss: 0.0087 - accuracy: 1.0000\n",
            "Epoch 125/200\n",
            "11/11 [==============================] - 0s 2ms/step - loss: 0.0279 - accuracy: 1.0000\n",
            "Epoch 126/200\n",
            "11/11 [==============================] - 0s 2ms/step - loss: 0.0627 - accuracy: 1.0000\n",
            "Epoch 127/200\n",
            "11/11 [==============================] - 0s 2ms/step - loss: 0.0445 - accuracy: 1.0000\n",
            "Epoch 128/200\n",
            "11/11 [==============================] - 0s 2ms/step - loss: 0.0252 - accuracy: 1.0000\n",
            "Epoch 129/200\n",
            "11/11 [==============================] - 0s 3ms/step - loss: 0.0160 - accuracy: 1.0000\n",
            "Epoch 130/200\n",
            "11/11 [==============================] - 0s 3ms/step - loss: 0.0117 - accuracy: 1.0000\n",
            "Epoch 131/200\n",
            "11/11 [==============================] - 0s 3ms/step - loss: 0.0096 - accuracy: 1.0000\n",
            "Epoch 132/200\n",
            "11/11 [==============================] - 0s 3ms/step - loss: 0.0083 - accuracy: 1.0000\n",
            "Epoch 133/200\n",
            "11/11 [==============================] - 0s 2ms/step - loss: 0.0073 - accuracy: 1.0000\n",
            "Epoch 134/200\n",
            "11/11 [==============================] - 0s 3ms/step - loss: 0.0066 - accuracy: 1.0000\n",
            "Epoch 135/200\n",
            "11/11 [==============================] - 0s 2ms/step - loss: 0.0060 - accuracy: 1.0000\n",
            "Epoch 136/200\n",
            "11/11 [==============================] - 0s 2ms/step - loss: 0.0267 - accuracy: 0.9971\n",
            "Epoch 137/200\n",
            "11/11 [==============================] - 0s 2ms/step - loss: 0.0960 - accuracy: 0.9971\n",
            "Epoch 138/200\n",
            "11/11 [==============================] - 0s 2ms/step - loss: 0.0726 - accuracy: 0.9971\n",
            "Epoch 139/200\n",
            "11/11 [==============================] - 0s 2ms/step - loss: 0.0314 - accuracy: 1.0000\n",
            "Epoch 140/200\n",
            "11/11 [==============================] - 0s 2ms/step - loss: 0.0172 - accuracy: 1.0000\n",
            "Epoch 141/200\n",
            "11/11 [==============================] - 0s 3ms/step - loss: 0.0118 - accuracy: 1.0000\n",
            "Epoch 142/200\n",
            "11/11 [==============================] - 0s 2ms/step - loss: 0.0093 - accuracy: 1.0000\n",
            "Epoch 143/200\n",
            "11/11 [==============================] - 0s 2ms/step - loss: 0.0078 - accuracy: 1.0000\n",
            "Epoch 144/200\n",
            "11/11 [==============================] - 0s 2ms/step - loss: 0.0069 - accuracy: 1.0000\n",
            "Epoch 145/200\n",
            "11/11 [==============================] - 0s 2ms/step - loss: 0.0061 - accuracy: 1.0000\n",
            "Epoch 146/200\n",
            "11/11 [==============================] - 0s 2ms/step - loss: 0.0056 - accuracy: 1.0000\n",
            "Epoch 147/200\n",
            "11/11 [==============================] - 0s 2ms/step - loss: 0.0054 - accuracy: 1.0000\n",
            "Epoch 148/200\n",
            "11/11 [==============================] - 0s 3ms/step - loss: 0.0057 - accuracy: 1.0000\n",
            "Epoch 149/200\n",
            "11/11 [==============================] - 0s 2ms/step - loss: 0.0057 - accuracy: 1.0000\n",
            "Epoch 150/200\n",
            "11/11 [==============================] - 0s 2ms/step - loss: 0.0054 - accuracy: 1.0000\n",
            "Epoch 151/200\n",
            "11/11 [==============================] - 0s 2ms/step - loss: 0.0050 - accuracy: 1.0000\n",
            "Epoch 152/200\n",
            "11/11 [==============================] - 0s 2ms/step - loss: 0.0303 - accuracy: 0.9971\n",
            "Epoch 153/200\n",
            "11/11 [==============================] - 0s 3ms/step - loss: 0.2403 - accuracy: 0.8601\n",
            "Epoch 154/200\n",
            "11/11 [==============================] - 0s 2ms/step - loss: 0.2556 - accuracy: 0.8717\n",
            "Epoch 155/200\n",
            "11/11 [==============================] - 0s 3ms/step - loss: 0.0498 - accuracy: 1.0000\n",
            "Epoch 156/200\n",
            "11/11 [==============================] - 0s 3ms/step - loss: 0.0126 - accuracy: 1.0000\n",
            "Epoch 157/200\n",
            "11/11 [==============================] - 0s 2ms/step - loss: 0.0073 - accuracy: 1.0000\n",
            "Epoch 158/200\n",
            "11/11 [==============================] - 0s 2ms/step - loss: 0.0057 - accuracy: 1.0000\n",
            "Epoch 159/200\n",
            "11/11 [==============================] - 0s 2ms/step - loss: 0.0050 - accuracy: 1.0000\n",
            "Epoch 160/200\n",
            "11/11 [==============================] - 0s 2ms/step - loss: 0.0046 - accuracy: 1.0000\n",
            "Epoch 161/200\n",
            "11/11 [==============================] - 0s 2ms/step - loss: 0.0057 - accuracy: 1.0000\n",
            "Epoch 162/200\n",
            "11/11 [==============================] - 0s 2ms/step - loss: 0.0067 - accuracy: 1.0000\n",
            "Epoch 163/200\n",
            "11/11 [==============================] - 0s 2ms/step - loss: 0.0067 - accuracy: 1.0000\n",
            "Epoch 164/200\n",
            "11/11 [==============================] - 0s 2ms/step - loss: 0.0062 - accuracy: 1.0000\n",
            "Epoch 165/200\n",
            "11/11 [==============================] - 0s 2ms/step - loss: 0.0056 - accuracy: 1.0000\n",
            "Epoch 166/200\n",
            "11/11 [==============================] - 0s 3ms/step - loss: 0.0051 - accuracy: 1.0000\n",
            "Epoch 167/200\n",
            "11/11 [==============================] - 0s 2ms/step - loss: 0.0047 - accuracy: 1.0000\n",
            "Epoch 168/200\n",
            "11/11 [==============================] - 0s 2ms/step - loss: 0.0170 - accuracy: 0.9971\n",
            "Epoch 169/200\n",
            "11/11 [==============================] - 0s 2ms/step - loss: 0.1563 - accuracy: 0.9184\n",
            "Epoch 170/200\n",
            "11/11 [==============================] - 0s 2ms/step - loss: 0.1965 - accuracy: 0.9184\n",
            "Epoch 171/200\n",
            "11/11 [==============================] - 0s 2ms/step - loss: 0.0455 - accuracy: 0.9971\n",
            "Epoch 172/200\n",
            "11/11 [==============================] - 0s 2ms/step - loss: 0.0129 - accuracy: 1.0000\n",
            "Epoch 173/200\n",
            "11/11 [==============================] - 0s 2ms/step - loss: 0.1132 - accuracy: 0.9883\n",
            "Epoch 174/200\n",
            "11/11 [==============================] - 0s 2ms/step - loss: 0.2600 - accuracy: 0.8397\n",
            "Epoch 175/200\n",
            "11/11 [==============================] - 0s 2ms/step - loss: 0.0884 - accuracy: 0.9883\n",
            "Epoch 176/200\n",
            "11/11 [==============================] - 0s 3ms/step - loss: 0.0185 - accuracy: 1.0000\n",
            "Epoch 177/200\n",
            "11/11 [==============================] - 0s 2ms/step - loss: 0.0084 - accuracy: 1.0000\n",
            "Epoch 178/200\n",
            "11/11 [==============================] - 0s 2ms/step - loss: 0.0060 - accuracy: 1.0000\n",
            "Epoch 179/200\n",
            "11/11 [==============================] - 0s 3ms/step - loss: 0.0553 - accuracy: 0.9971\n",
            "Epoch 180/200\n",
            "11/11 [==============================] - 0s 3ms/step - loss: 0.2344 - accuracy: 0.8688\n",
            "Epoch 181/200\n",
            "11/11 [==============================] - 0s 3ms/step - loss: 0.1257 - accuracy: 0.9621\n",
            "Epoch 182/200\n",
            "11/11 [==============================] - 0s 2ms/step - loss: 0.0220 - accuracy: 1.0000\n",
            "Epoch 183/200\n",
            "11/11 [==============================] - 0s 2ms/step - loss: 0.0086 - accuracy: 1.0000\n",
            "Epoch 184/200\n",
            "11/11 [==============================] - 0s 2ms/step - loss: 0.0060 - accuracy: 1.0000\n",
            "Epoch 185/200\n",
            "11/11 [==============================] - 0s 3ms/step - loss: 0.0049 - accuracy: 1.0000\n",
            "Epoch 186/200\n",
            "11/11 [==============================] - 0s 2ms/step - loss: 0.0043 - accuracy: 1.0000\n",
            "Epoch 187/200\n",
            "11/11 [==============================] - 0s 2ms/step - loss: 0.0040 - accuracy: 1.0000\n",
            "Epoch 188/200\n",
            "11/11 [==============================] - 0s 2ms/step - loss: 0.0037 - accuracy: 1.0000\n",
            "Epoch 189/200\n",
            "11/11 [==============================] - 0s 3ms/step - loss: 0.0034 - accuracy: 1.0000\n",
            "Epoch 190/200\n",
            "11/11 [==============================] - 0s 2ms/step - loss: 0.0032 - accuracy: 1.0000\n",
            "Epoch 191/200\n",
            "11/11 [==============================] - 0s 2ms/step - loss: 0.0030 - accuracy: 1.0000\n",
            "Epoch 192/200\n",
            "11/11 [==============================] - 0s 3ms/step - loss: 0.0032 - accuracy: 1.0000\n",
            "Epoch 193/200\n",
            "11/11 [==============================] - 0s 3ms/step - loss: 0.0065 - accuracy: 1.0000\n",
            "Epoch 194/200\n",
            "11/11 [==============================] - 0s 2ms/step - loss: 0.0134 - accuracy: 1.0000\n",
            "Epoch 195/200\n",
            "11/11 [==============================] - 0s 2ms/step - loss: 0.0140 - accuracy: 1.0000\n",
            "Epoch 196/200\n",
            "11/11 [==============================] - 0s 2ms/step - loss: 0.0116 - accuracy: 1.0000\n",
            "Epoch 197/200\n",
            "11/11 [==============================] - 0s 2ms/step - loss: 0.0091 - accuracy: 1.0000\n",
            "Epoch 198/200\n",
            "11/11 [==============================] - 0s 3ms/step - loss: 0.0075 - accuracy: 1.0000\n",
            "Epoch 199/200\n",
            "11/11 [==============================] - 0s 3ms/step - loss: 0.0063 - accuracy: 1.0000\n",
            "Epoch 200/200\n",
            "11/11 [==============================] - 0s 2ms/step - loss: 0.0054 - accuracy: 1.0000\n",
            "Predicted   0   1\n",
            "Actual           \n",
            "0          72   0\n",
            "1           1  74\n"
          ],
          "name": "stdout"
        }
      ]
    },
    {
      "cell_type": "code",
      "metadata": {
        "id": "NuIlULfFx-lF"
      },
      "source": [
        "# y_pred,confusion_matrix,METRICS=AnnGrain(ANN_dat,df.drop('Width',axis=1)) \n"
      ],
      "execution_count": 16,
      "outputs": []
    },
    {
      "cell_type": "code",
      "metadata": {
        "id": "2FWWKD60grG_",
        "colab": {
          "base_uri": "https://localhost:8080/"
        },
        "outputId": "70b4b61c-e4d4-4669-d863-5ef0a818d2e6"
      },
      "source": [
        "print(confusion_matrix)"
      ],
      "execution_count": 17,
      "outputs": [
        {
          "output_type": "stream",
          "text": [
            "Predicted   0   1\n",
            "Actual           \n",
            "0          72   0\n",
            "1           1  74\n"
          ],
          "name": "stdout"
        }
      ]
    },
    {
      "cell_type": "code",
      "metadata": {
        "id": "2XdZVmRmk9s6",
        "colab": {
          "base_uri": "https://localhost:8080/"
        },
        "outputId": "f3a6724e-7c99-4e64-e5c2-e8a961fc8191"
      },
      "source": [
        "df.shape"
      ],
      "execution_count": 18,
      "outputs": [
        {
          "output_type": "execute_result",
          "data": {
            "text/plain": [
              "(150, 785)"
            ]
          },
          "metadata": {
            "tags": []
          },
          "execution_count": 18
        }
      ]
    },
    {
      "cell_type": "code",
      "metadata": {
        "id": "mv01JmHfmz-1"
      },
      "source": [
        "# open file to get df \n",
        "# use df and ANN to get grains and no grains\n",
        "# use grains to obtain psd"
      ],
      "execution_count": 19,
      "outputs": []
    },
    {
      "cell_type": "code",
      "metadata": {
        "id": "h4ELNAEunkox",
        "colab": {
          "base_uri": "https://localhost:8080/"
        },
        "outputId": "87f546c0-83ff-4572-b587-fa467c934bf3"
      },
      "source": [
        "!git clone https://github.com/marquesgabi/Doutorado\n",
        "%cd Doutorado"
      ],
      "execution_count": 20,
      "outputs": [
        {
          "output_type": "stream",
          "text": [
            "fatal: destination path 'Doutorado' already exists and is not an empty directory.\n",
            "/content/marquesgabi_fev_2020/marquesgabi_out_2020/Doutorado/marquesgabi_set_2020/Doutorado/Doutorado\n"
          ],
          "name": "stdout"
        }
      ]
    },
    {
      "cell_type": "code",
      "metadata": {
        "id": "QmPJiuSnnxT9",
        "colab": {
          "base_uri": "https://localhost:8080/"
        },
        "outputId": "d745c4b7-46ff-46c9-a2ca-b5b25e009573"
      },
      "source": [
        "k=0\n",
        "for Item in img_name:\n",
        "  print(k,Item)\n",
        "  k=k+1\n",
        "\n",
        "img=ww[21]\n"
      ],
      "execution_count": 21,
      "outputs": [
        {
          "output_type": "stream",
          "text": [
            "0 Fotos_Grandes-3cdAmostra/Q6-8-4.jpg\n",
            "1 Fotos_Grandes-3cdAmostra/Q6-5-3.jpg\n",
            "2 Fotos_Grandes-3cdAmostra/Q6-7-4.jpg\n",
            "3 Fotos_Grandes-3cdAmostra/Q6-8-2.jpg\n",
            "4 Fotos_Grandes-3cdAmostra/Q6-3-2.jpg\n",
            "5 Fotos_Grandes-3cdAmostra/Q6-7-2.jpg\n",
            "6 Fotos_Grandes-3cdAmostra/Q6-4-4.jpg\n",
            "7 Fotos_Grandes-3cdAmostra/Q6-9-5.jpg\n",
            "8 Fotos_Grandes-3cdAmostra/Q6-2-5.jpg\n",
            "9 Fotos_Grandes-3cdAmostra/Q6-8-3.jpg\n",
            "10 Fotos_Grandes-3cdAmostra/Q6-9-3.jpg\n",
            "11 Fotos_Grandes-3cdAmostra/Q6-1-2.jpg\n",
            "12 Fotos_Grandes-3cdAmostra/Q6-6-3.jpg\n",
            "13 Fotos_Grandes-3cdAmostra/Q6-3-4.jpg\n",
            "14 Fotos_Grandes-3cdAmostra/Q6-1-4.jpg\n",
            "15 Fotos_Grandes-3cdAmostra/Q6-6-2.jpg\n",
            "16 Fotos_Grandes-3cdAmostra/Q6-4-3.jpg\n",
            "17 Fotos_Grandes-3cdAmostra/Q6-7-3.jpg\n",
            "18 Fotos_Grandes-3cdAmostra/Q6-2-2.jpg\n",
            "19 Fotos_Grandes-3cdAmostra/Q6-9-2.jpg\n",
            "20 Fotos_Grandes-3cdAmostra/Q6-1-5.jpg\n",
            "21 Fotos_Grandes-3cdAmostra/Q6-6-5.jpg\n",
            "22 Fotos_Grandes-3cdAmostra/Q6-2-1.jpg\n",
            "23 Fotos_Grandes-3cdAmostra/Q6-5-2.jpg\n",
            "24 Fotos_Grandes-3cdAmostra/Q6-4-1.jpg\n",
            "25 Fotos_Grandes-3cdAmostra/Q6-3-1.jpg\n",
            "26 Fotos_Grandes-3cdAmostra/Q6-5-4.jpg\n"
          ],
          "name": "stdout"
        }
      ]
    },
    {
      "cell_type": "code",
      "metadata": {
        "id": "Fg08LdDEsYLd"
      },
      "source": [
        "df=Segmenta(img)"
      ],
      "execution_count": 22,
      "outputs": []
    },
    {
      "cell_type": "code",
      "metadata": {
        "id": "3O2xFH1Ishc2",
        "colab": {
          "base_uri": "https://localhost:8080/"
        },
        "outputId": "878647cb-dac9-4309-bfeb-0f1f1cc35420"
      },
      "source": [
        "y_pred,confusion_matrix,METRICS=AnnGrain(ANN_dat,df.drop('Width',axis=1)) "
      ],
      "execution_count": 23,
      "outputs": [
        {
          "output_type": "stream",
          "text": [
            "Epoch 1/200\n",
            "WARNING:tensorflow:Model was constructed with shape (None, 28, 28) for input Tensor(\"flatten_1_input:0\", shape=(None, 28, 28), dtype=float32), but it was called on an input with incompatible shape (None, 784).\n",
            "WARNING:tensorflow:Model was constructed with shape (None, 28, 28) for input Tensor(\"flatten_1_input:0\", shape=(None, 28, 28), dtype=float32), but it was called on an input with incompatible shape (None, 784).\n",
            "11/11 [==============================] - 0s 2ms/step - loss: 7.8188 - accuracy: 0.4694 \n",
            "Epoch 2/200\n",
            "11/11 [==============================] - 0s 2ms/step - loss: 0.8158 - accuracy: 0.5015\n",
            "Epoch 3/200\n",
            "11/11 [==============================] - 0s 2ms/step - loss: 0.9039 - accuracy: 0.4927\n",
            "Epoch 4/200\n",
            "11/11 [==============================] - 0s 2ms/step - loss: 0.5024 - accuracy: 0.5977\n",
            "Epoch 5/200\n",
            "11/11 [==============================] - 0s 2ms/step - loss: 0.5364 - accuracy: 0.5656\n",
            "Epoch 6/200\n",
            "11/11 [==============================] - 0s 2ms/step - loss: 1.0902 - accuracy: 0.5073\n",
            "Epoch 7/200\n",
            "11/11 [==============================] - 0s 2ms/step - loss: 1.0735 - accuracy: 0.4985\n",
            "Epoch 8/200\n",
            "11/11 [==============================] - 0s 2ms/step - loss: 0.8777 - accuracy: 0.6501\n",
            "Epoch 9/200\n",
            "11/11 [==============================] - 0s 2ms/step - loss: 0.4921 - accuracy: 0.6618\n",
            "Epoch 10/200\n",
            "11/11 [==============================] - 0s 2ms/step - loss: 0.3625 - accuracy: 0.8455\n",
            "Epoch 11/200\n",
            "11/11 [==============================] - 0s 2ms/step - loss: 0.3960 - accuracy: 0.6968\n",
            "Epoch 12/200\n",
            "11/11 [==============================] - 0s 2ms/step - loss: 0.4084 - accuracy: 0.8484\n",
            "Epoch 13/200\n",
            "11/11 [==============================] - 0s 2ms/step - loss: 0.7775 - accuracy: 0.5452\n",
            "Epoch 14/200\n",
            "11/11 [==============================] - 0s 2ms/step - loss: 0.4478 - accuracy: 0.7434\n",
            "Epoch 15/200\n",
            "11/11 [==============================] - 0s 2ms/step - loss: 0.7445 - accuracy: 0.5539\n",
            "Epoch 16/200\n",
            "11/11 [==============================] - 0s 2ms/step - loss: 0.2899 - accuracy: 0.8542\n",
            "Epoch 17/200\n",
            "11/11 [==============================] - 0s 2ms/step - loss: 0.2017 - accuracy: 0.9942\n",
            "Epoch 18/200\n",
            "11/11 [==============================] - 0s 2ms/step - loss: 0.1911 - accuracy: 0.9854\n",
            "Epoch 19/200\n",
            "11/11 [==============================] - 0s 2ms/step - loss: 0.4173 - accuracy: 0.6939\n",
            "Epoch 20/200\n",
            "11/11 [==============================] - 0s 2ms/step - loss: 0.2982 - accuracy: 0.9708\n",
            "Epoch 21/200\n",
            "11/11 [==============================] - 0s 2ms/step - loss: 0.2557 - accuracy: 0.8921\n",
            "Epoch 22/200\n",
            "11/11 [==============================] - 0s 2ms/step - loss: 0.2048 - accuracy: 0.9534\n",
            "Epoch 23/200\n",
            "11/11 [==============================] - 0s 2ms/step - loss: 2.3286 - accuracy: 0.6443\n",
            "Epoch 24/200\n",
            "11/11 [==============================] - 0s 2ms/step - loss: 6.6775 - accuracy: 0.4956\n",
            "Epoch 25/200\n",
            "11/11 [==============================] - 0s 2ms/step - loss: 6.8583 - accuracy: 0.4956\n",
            "Epoch 26/200\n",
            "11/11 [==============================] - 0s 2ms/step - loss: 5.6783 - accuracy: 0.4956\n",
            "Epoch 27/200\n",
            "11/11 [==============================] - 0s 2ms/step - loss: 4.1003 - accuracy: 0.4956\n",
            "Epoch 28/200\n",
            "11/11 [==============================] - 0s 2ms/step - loss: 2.3775 - accuracy: 0.4956\n",
            "Epoch 29/200\n",
            "11/11 [==============================] - 0s 2ms/step - loss: 0.5543 - accuracy: 0.7580\n",
            "Epoch 30/200\n",
            "11/11 [==============================] - 0s 2ms/step - loss: 1.0417 - accuracy: 0.6501\n",
            "Epoch 31/200\n",
            "11/11 [==============================] - 0s 2ms/step - loss: 1.8378 - accuracy: 0.5102\n",
            "Epoch 32/200\n",
            "11/11 [==============================] - 0s 2ms/step - loss: 1.2325 - accuracy: 0.5569\n",
            "Epoch 33/200\n",
            "11/11 [==============================] - 0s 2ms/step - loss: 0.3999 - accuracy: 0.7843\n",
            "Epoch 34/200\n",
            "11/11 [==============================] - 0s 2ms/step - loss: 0.1139 - accuracy: 0.9971\n",
            "Epoch 35/200\n",
            "11/11 [==============================] - 0s 2ms/step - loss: 0.1339 - accuracy: 1.0000\n",
            "Epoch 36/200\n",
            "11/11 [==============================] - 0s 2ms/step - loss: 0.0774 - accuracy: 1.0000\n",
            "Epoch 37/200\n",
            "11/11 [==============================] - 0s 2ms/step - loss: 0.2328 - accuracy: 0.9592\n",
            "Epoch 38/200\n",
            "11/11 [==============================] - 0s 2ms/step - loss: 0.4208 - accuracy: 0.7143\n",
            "Epoch 39/200\n",
            "11/11 [==============================] - 0s 2ms/step - loss: 0.2010 - accuracy: 0.9329\n",
            "Epoch 40/200\n",
            "11/11 [==============================] - 0s 2ms/step - loss: 0.0694 - accuracy: 1.0000\n",
            "Epoch 41/200\n",
            "11/11 [==============================] - 0s 2ms/step - loss: 0.0497 - accuracy: 1.0000\n",
            "Epoch 42/200\n",
            "11/11 [==============================] - 0s 2ms/step - loss: 0.0709 - accuracy: 1.0000\n",
            "Epoch 43/200\n",
            "11/11 [==============================] - 0s 2ms/step - loss: 0.0593 - accuracy: 1.0000\n",
            "Epoch 44/200\n",
            "11/11 [==============================] - 0s 2ms/step - loss: 0.1205 - accuracy: 0.9796\n",
            "Epoch 45/200\n",
            "11/11 [==============================] - 0s 2ms/step - loss: 0.1724 - accuracy: 0.9650\n",
            "Epoch 46/200\n",
            "11/11 [==============================] - 0s 2ms/step - loss: 0.0756 - accuracy: 1.0000\n",
            "Epoch 47/200\n",
            "11/11 [==============================] - 0s 2ms/step - loss: 0.0548 - accuracy: 0.9971\n",
            "Epoch 48/200\n",
            "11/11 [==============================] - 0s 2ms/step - loss: 0.2230 - accuracy: 0.8892\n",
            "Epoch 49/200\n",
            "11/11 [==============================] - 0s 2ms/step - loss: 0.3280 - accuracy: 0.8047\n",
            "Epoch 50/200\n",
            "11/11 [==============================] - 0s 2ms/step - loss: 0.1302 - accuracy: 0.9913\n",
            "Epoch 51/200\n",
            "11/11 [==============================] - 0s 2ms/step - loss: 0.0455 - accuracy: 1.0000\n",
            "Epoch 52/200\n",
            "11/11 [==============================] - 0s 2ms/step - loss: 0.1666 - accuracy: 0.9942\n",
            "Epoch 53/200\n",
            "11/11 [==============================] - 0s 2ms/step - loss: 0.1827 - accuracy: 0.9504\n",
            "Epoch 54/200\n",
            "11/11 [==============================] - 0s 2ms/step - loss: 0.1386 - accuracy: 0.9883\n",
            "Epoch 55/200\n",
            "11/11 [==============================] - 0s 2ms/step - loss: 0.0619 - accuracy: 1.0000\n",
            "Epoch 56/200\n",
            "11/11 [==============================] - 0s 2ms/step - loss: 0.0328 - accuracy: 1.0000\n",
            "Epoch 57/200\n",
            "11/11 [==============================] - 0s 3ms/step - loss: 0.4406 - accuracy: 0.7784\n",
            "Epoch 58/200\n",
            "11/11 [==============================] - 0s 2ms/step - loss: 0.8125 - accuracy: 0.6093\n",
            "Epoch 59/200\n",
            "11/11 [==============================] - 0s 2ms/step - loss: 0.3172 - accuracy: 0.8338\n",
            "Epoch 60/200\n",
            "11/11 [==============================] - 0s 2ms/step - loss: 0.0607 - accuracy: 1.0000\n",
            "Epoch 61/200\n",
            "11/11 [==============================] - 0s 2ms/step - loss: 0.1039 - accuracy: 0.9942\n",
            "Epoch 62/200\n",
            "11/11 [==============================] - 0s 2ms/step - loss: 0.5565 - accuracy: 0.7318\n",
            "Epoch 63/200\n",
            "11/11 [==============================] - 0s 2ms/step - loss: 0.8943 - accuracy: 0.6152\n",
            "Epoch 64/200\n",
            "11/11 [==============================] - 0s 2ms/step - loss: 0.3133 - accuracy: 0.8426\n",
            "Epoch 65/200\n",
            "11/11 [==============================] - 0s 2ms/step - loss: 0.0562 - accuracy: 1.0000\n",
            "Epoch 66/200\n",
            "11/11 [==============================] - 0s 2ms/step - loss: 0.1614 - accuracy: 0.9883\n",
            "Epoch 67/200\n",
            "11/11 [==============================] - 0s 2ms/step - loss: 0.8269 - accuracy: 0.6618\n",
            "Epoch 68/200\n",
            "11/11 [==============================] - 0s 2ms/step - loss: 0.8775 - accuracy: 0.6093\n",
            "Epoch 69/200\n",
            "11/11 [==============================] - 0s 2ms/step - loss: 0.2357 - accuracy: 0.9038\n",
            "Epoch 70/200\n",
            "11/11 [==============================] - 0s 2ms/step - loss: 0.0404 - accuracy: 1.0000\n",
            "Epoch 71/200\n",
            "11/11 [==============================] - 0s 2ms/step - loss: 0.0162 - accuracy: 1.0000\n",
            "Epoch 72/200\n",
            "11/11 [==============================] - 0s 2ms/step - loss: 0.0459 - accuracy: 0.9942\n",
            "Epoch 73/200\n",
            "11/11 [==============================] - 0s 2ms/step - loss: 0.2673 - accuracy: 0.8571\n",
            "Epoch 74/200\n",
            "11/11 [==============================] - 0s 2ms/step - loss: 0.2121 - accuracy: 0.9009\n",
            "Epoch 75/200\n",
            "11/11 [==============================] - 0s 2ms/step - loss: 0.0741 - accuracy: 1.0000\n",
            "Epoch 76/200\n",
            "11/11 [==============================] - 0s 2ms/step - loss: 0.0294 - accuracy: 1.0000\n",
            "Epoch 77/200\n",
            "11/11 [==============================] - 0s 2ms/step - loss: 0.0182 - accuracy: 1.0000\n",
            "Epoch 78/200\n",
            "11/11 [==============================] - 0s 2ms/step - loss: 0.0140 - accuracy: 1.0000\n",
            "Epoch 79/200\n",
            "11/11 [==============================] - 0s 2ms/step - loss: 0.0418 - accuracy: 0.9971\n",
            "Epoch 80/200\n",
            "11/11 [==============================] - 0s 2ms/step - loss: 0.1141 - accuracy: 0.9913\n",
            "Epoch 81/200\n",
            "11/11 [==============================] - 0s 2ms/step - loss: 0.0975 - accuracy: 0.9942\n",
            "Epoch 82/200\n",
            "11/11 [==============================] - 0s 2ms/step - loss: 0.0484 - accuracy: 1.0000\n",
            "Epoch 83/200\n",
            "11/11 [==============================] - 0s 2ms/step - loss: 0.0274 - accuracy: 1.0000\n",
            "Epoch 84/200\n",
            "11/11 [==============================] - 0s 2ms/step - loss: 0.0186 - accuracy: 1.0000\n",
            "Epoch 85/200\n",
            "11/11 [==============================] - 0s 2ms/step - loss: 0.0143 - accuracy: 1.0000\n",
            "Epoch 86/200\n",
            "11/11 [==============================] - 0s 2ms/step - loss: 0.0119 - accuracy: 1.0000\n",
            "Epoch 87/200\n",
            "11/11 [==============================] - 0s 2ms/step - loss: 0.0456 - accuracy: 0.9971\n",
            "Epoch 88/200\n",
            "11/11 [==============================] - 0s 2ms/step - loss: 0.0987 - accuracy: 0.9942\n",
            "Epoch 89/200\n",
            "11/11 [==============================] - 0s 2ms/step - loss: 0.1169 - accuracy: 0.9854\n",
            "Epoch 90/200\n",
            "11/11 [==============================] - 0s 2ms/step - loss: 0.0505 - accuracy: 1.0000\n",
            "Epoch 91/200\n",
            "11/11 [==============================] - 0s 2ms/step - loss: 0.0262 - accuracy: 1.0000\n",
            "Epoch 92/200\n",
            "11/11 [==============================] - 0s 2ms/step - loss: 0.0173 - accuracy: 1.0000\n",
            "Epoch 93/200\n",
            "11/11 [==============================] - 0s 2ms/step - loss: 0.0133 - accuracy: 1.0000\n",
            "Epoch 94/200\n",
            "11/11 [==============================] - 0s 2ms/step - loss: 0.0111 - accuracy: 1.0000\n",
            "Epoch 95/200\n",
            "11/11 [==============================] - 0s 3ms/step - loss: 0.0343 - accuracy: 0.9971\n",
            "Epoch 96/200\n",
            "11/11 [==============================] - 0s 2ms/step - loss: 0.2508 - accuracy: 0.8717\n",
            "Epoch 97/200\n",
            "11/11 [==============================] - 0s 2ms/step - loss: 0.4531 - accuracy: 0.7376\n",
            "Epoch 98/200\n",
            "11/11 [==============================] - 0s 2ms/step - loss: 0.1303 - accuracy: 0.9592\n",
            "Epoch 99/200\n",
            "11/11 [==============================] - 0s 2ms/step - loss: 0.0251 - accuracy: 1.0000\n",
            "Epoch 100/200\n",
            "11/11 [==============================] - 0s 2ms/step - loss: 0.0124 - accuracy: 1.0000\n",
            "Epoch 101/200\n",
            "11/11 [==============================] - 0s 2ms/step - loss: 0.0139 - accuracy: 0.9971\n",
            "Epoch 102/200\n",
            "11/11 [==============================] - 0s 2ms/step - loss: 0.0909 - accuracy: 0.9942\n",
            "Epoch 103/200\n",
            "11/11 [==============================] - 0s 2ms/step - loss: 0.1125 - accuracy: 0.9942\n",
            "Epoch 104/200\n",
            "11/11 [==============================] - 0s 2ms/step - loss: 0.0556 - accuracy: 1.0000\n",
            "Epoch 105/200\n",
            "11/11 [==============================] - 0s 2ms/step - loss: 0.0259 - accuracy: 1.0000\n",
            "Epoch 106/200\n",
            "11/11 [==============================] - 0s 2ms/step - loss: 0.0162 - accuracy: 1.0000\n",
            "Epoch 107/200\n",
            "11/11 [==============================] - 0s 2ms/step - loss: 0.0121 - accuracy: 1.0000\n",
            "Epoch 108/200\n",
            "11/11 [==============================] - 0s 2ms/step - loss: 0.0099 - accuracy: 1.0000\n",
            "Epoch 109/200\n",
            "11/11 [==============================] - 0s 2ms/step - loss: 0.0086 - accuracy: 1.0000\n",
            "Epoch 110/200\n",
            "11/11 [==============================] - 0s 2ms/step - loss: 0.0076 - accuracy: 1.0000\n",
            "Epoch 111/200\n",
            "11/11 [==============================] - 0s 2ms/step - loss: 0.0069 - accuracy: 1.0000\n",
            "Epoch 112/200\n",
            "11/11 [==============================] - 0s 2ms/step - loss: 0.0064 - accuracy: 1.0000\n",
            "Epoch 113/200\n",
            "11/11 [==============================] - 0s 2ms/step - loss: 0.0301 - accuracy: 0.9971\n",
            "Epoch 114/200\n",
            "11/11 [==============================] - 0s 2ms/step - loss: 0.1519 - accuracy: 0.9300\n",
            "Epoch 115/200\n",
            "11/11 [==============================] - 0s 2ms/step - loss: 0.1677 - accuracy: 0.9242\n",
            "Epoch 116/200\n",
            "11/11 [==============================] - 0s 2ms/step - loss: 0.0567 - accuracy: 1.0000\n",
            "Epoch 117/200\n",
            "11/11 [==============================] - 0s 2ms/step - loss: 0.0211 - accuracy: 1.0000\n",
            "Epoch 118/200\n",
            "11/11 [==============================] - 0s 2ms/step - loss: 0.0122 - accuracy: 1.0000\n",
            "Epoch 119/200\n",
            "11/11 [==============================] - 0s 2ms/step - loss: 0.0092 - accuracy: 1.0000\n",
            "Epoch 120/200\n",
            "11/11 [==============================] - 0s 2ms/step - loss: 0.0077 - accuracy: 1.0000\n",
            "Epoch 121/200\n",
            "11/11 [==============================] - 0s 2ms/step - loss: 0.0068 - accuracy: 1.0000\n",
            "Epoch 122/200\n",
            "11/11 [==============================] - 0s 2ms/step - loss: 0.0061 - accuracy: 1.0000\n",
            "Epoch 123/200\n",
            "11/11 [==============================] - 0s 2ms/step - loss: 0.0057 - accuracy: 1.0000\n",
            "Epoch 124/200\n",
            "11/11 [==============================] - 0s 3ms/step - loss: 0.0079 - accuracy: 1.0000\n",
            "Epoch 125/200\n",
            "11/11 [==============================] - 0s 2ms/step - loss: 0.0101 - accuracy: 1.0000\n",
            "Epoch 126/200\n",
            "11/11 [==============================] - 0s 2ms/step - loss: 0.0100 - accuracy: 1.0000\n",
            "Epoch 127/200\n",
            "11/11 [==============================] - 0s 2ms/step - loss: 0.0090 - accuracy: 1.0000\n",
            "Epoch 128/200\n",
            "11/11 [==============================] - 0s 2ms/step - loss: 0.0079 - accuracy: 1.0000\n",
            "Epoch 129/200\n",
            "11/11 [==============================] - 0s 2ms/step - loss: 0.0070 - accuracy: 1.0000\n",
            "Epoch 130/200\n",
            "11/11 [==============================] - 0s 2ms/step - loss: 0.0063 - accuracy: 1.0000\n",
            "Epoch 131/200\n",
            "11/11 [==============================] - 0s 2ms/step - loss: 0.0057 - accuracy: 1.0000\n",
            "Epoch 132/200\n",
            "11/11 [==============================] - 0s 2ms/step - loss: 0.0052 - accuracy: 1.0000\n",
            "Epoch 133/200\n",
            "11/11 [==============================] - 0s 2ms/step - loss: 0.0106 - accuracy: 0.9942\n",
            "Epoch 134/200\n",
            "11/11 [==============================] - 0s 2ms/step - loss: 0.2236 - accuracy: 0.8892\n",
            "Epoch 135/200\n",
            "11/11 [==============================] - 0s 2ms/step - loss: 0.3298 - accuracy: 0.8338\n",
            "Epoch 136/200\n",
            "11/11 [==============================] - 0s 2ms/step - loss: 0.0620 - accuracy: 0.9971\n",
            "Epoch 137/200\n",
            "11/11 [==============================] - 0s 2ms/step - loss: 0.0138 - accuracy: 1.0000\n",
            "Epoch 138/200\n",
            "11/11 [==============================] - 0s 2ms/step - loss: 0.0074 - accuracy: 1.0000\n",
            "Epoch 139/200\n",
            "11/11 [==============================] - 0s 2ms/step - loss: 0.0056 - accuracy: 1.0000\n",
            "Epoch 140/200\n",
            "11/11 [==============================] - 0s 2ms/step - loss: 0.0049 - accuracy: 1.0000\n",
            "Epoch 141/200\n",
            "11/11 [==============================] - 0s 2ms/step - loss: 0.0044 - accuracy: 1.0000\n",
            "Epoch 142/200\n",
            "11/11 [==============================] - 0s 2ms/step - loss: 0.0041 - accuracy: 1.0000\n",
            "Epoch 143/200\n",
            "11/11 [==============================] - 0s 2ms/step - loss: 0.0038 - accuracy: 1.0000\n",
            "Epoch 144/200\n",
            "11/11 [==============================] - 0s 2ms/step - loss: 0.0043 - accuracy: 1.0000\n",
            "Epoch 145/200\n",
            "11/11 [==============================] - 0s 2ms/step - loss: 0.0062 - accuracy: 1.0000\n",
            "Epoch 146/200\n",
            "11/11 [==============================] - 0s 2ms/step - loss: 0.0073 - accuracy: 1.0000\n",
            "Epoch 147/200\n",
            "11/11 [==============================] - 0s 3ms/step - loss: 0.0071 - accuracy: 1.0000\n",
            "Epoch 148/200\n",
            "11/11 [==============================] - 0s 2ms/step - loss: 0.0065 - accuracy: 1.0000\n",
            "Epoch 149/200\n",
            "11/11 [==============================] - 0s 2ms/step - loss: 0.0058 - accuracy: 1.0000\n",
            "Epoch 150/200\n",
            "11/11 [==============================] - 0s 2ms/step - loss: 0.0052 - accuracy: 1.0000\n",
            "Epoch 151/200\n",
            "11/11 [==============================] - 0s 3ms/step - loss: 0.0048 - accuracy: 1.0000\n",
            "Epoch 152/200\n",
            "11/11 [==============================] - 0s 3ms/step - loss: 0.0044 - accuracy: 1.0000\n",
            "Epoch 153/200\n",
            "11/11 [==============================] - 0s 2ms/step - loss: 0.0040 - accuracy: 1.0000\n",
            "Epoch 154/200\n",
            "11/11 [==============================] - 0s 2ms/step - loss: 0.0037 - accuracy: 1.0000\n",
            "Epoch 155/200\n",
            "11/11 [==============================] - 0s 2ms/step - loss: 0.0035 - accuracy: 1.0000\n",
            "Epoch 156/200\n",
            "11/11 [==============================] - 0s 2ms/step - loss: 0.0171 - accuracy: 0.9971\n",
            "Epoch 157/200\n",
            "11/11 [==============================] - 0s 2ms/step - loss: 0.2118 - accuracy: 0.8921\n",
            "Epoch 158/200\n",
            "11/11 [==============================] - 0s 2ms/step - loss: 0.1472 - accuracy: 0.9446\n",
            "Epoch 159/200\n",
            "11/11 [==============================] - 0s 2ms/step - loss: 0.0315 - accuracy: 1.0000\n",
            "Epoch 160/200\n",
            "11/11 [==============================] - 0s 2ms/step - loss: 0.0109 - accuracy: 1.0000\n",
            "Epoch 161/200\n",
            "11/11 [==============================] - 0s 2ms/step - loss: 0.0066 - accuracy: 1.0000\n",
            "Epoch 162/200\n",
            "11/11 [==============================] - 0s 2ms/step - loss: 0.0052 - accuracy: 1.0000\n",
            "Epoch 163/200\n",
            "11/11 [==============================] - 0s 3ms/step - loss: 0.0045 - accuracy: 1.0000\n",
            "Epoch 164/200\n",
            "11/11 [==============================] - 0s 2ms/step - loss: 0.0041 - accuracy: 1.0000\n",
            "Epoch 165/200\n",
            "11/11 [==============================] - 0s 2ms/step - loss: 0.0038 - accuracy: 1.0000\n",
            "Epoch 166/200\n",
            "11/11 [==============================] - 0s 2ms/step - loss: 0.0579 - accuracy: 0.9971\n",
            "Epoch 167/200\n",
            "11/11 [==============================] - 0s 2ms/step - loss: 0.7722 - accuracy: 0.6939\n",
            "Epoch 168/200\n",
            "11/11 [==============================] - 0s 2ms/step - loss: 0.6336 - accuracy: 0.7259\n",
            "Epoch 169/200\n",
            "11/11 [==============================] - 0s 2ms/step - loss: 0.0425 - accuracy: 0.9942\n",
            "Epoch 170/200\n",
            "11/11 [==============================] - 0s 2ms/step - loss: 0.0050 - accuracy: 1.0000\n",
            "Epoch 171/200\n",
            "11/11 [==============================] - 0s 2ms/step - loss: 0.0341 - accuracy: 0.9971\n",
            "Epoch 172/200\n",
            "11/11 [==============================] - 0s 2ms/step - loss: 0.0479 - accuracy: 0.9971\n",
            "Epoch 173/200\n",
            "11/11 [==============================] - 0s 2ms/step - loss: 0.0584 - accuracy: 0.9971\n",
            "Epoch 174/200\n",
            "11/11 [==============================] - 0s 2ms/step - loss: 0.0287 - accuracy: 1.0000\n",
            "Epoch 175/200\n",
            "11/11 [==============================] - 0s 2ms/step - loss: 0.0137 - accuracy: 1.0000\n",
            "Epoch 176/200\n",
            "11/11 [==============================] - 0s 2ms/step - loss: 0.0089 - accuracy: 1.0000\n",
            "Epoch 177/200\n",
            "11/11 [==============================] - 0s 3ms/step - loss: 0.0069 - accuracy: 1.0000\n",
            "Epoch 178/200\n",
            "11/11 [==============================] - 0s 2ms/step - loss: 0.0058 - accuracy: 1.0000\n",
            "Epoch 179/200\n",
            "11/11 [==============================] - 0s 2ms/step - loss: 0.0050 - accuracy: 1.0000\n",
            "Epoch 180/200\n",
            "11/11 [==============================] - 0s 2ms/step - loss: 0.0045 - accuracy: 1.0000\n",
            "Epoch 181/200\n",
            "11/11 [==============================] - 0s 2ms/step - loss: 0.0041 - accuracy: 1.0000\n",
            "Epoch 182/200\n",
            "11/11 [==============================] - 0s 2ms/step - loss: 0.0038 - accuracy: 1.0000\n",
            "Epoch 183/200\n",
            "11/11 [==============================] - 0s 3ms/step - loss: 0.0035 - accuracy: 1.0000\n",
            "Epoch 184/200\n",
            "11/11 [==============================] - 0s 2ms/step - loss: 0.0032 - accuracy: 1.0000\n",
            "Epoch 185/200\n",
            "11/11 [==============================] - 0s 3ms/step - loss: 0.0030 - accuracy: 1.0000\n",
            "Epoch 186/200\n",
            "11/11 [==============================] - 0s 2ms/step - loss: 0.0203 - accuracy: 0.9971\n",
            "Epoch 187/200\n",
            "11/11 [==============================] - 0s 2ms/step - loss: 0.6900 - accuracy: 0.6939\n",
            "Epoch 188/200\n",
            "11/11 [==============================] - 0s 2ms/step - loss: 0.3990 - accuracy: 0.8163\n",
            "Epoch 189/200\n",
            "11/11 [==============================] - 0s 3ms/step - loss: 0.0218 - accuracy: 1.0000\n",
            "Epoch 190/200\n",
            "11/11 [==============================] - 0s 2ms/step - loss: 0.0044 - accuracy: 1.0000\n",
            "Epoch 191/200\n",
            "11/11 [==============================] - 0s 2ms/step - loss: 0.1079 - accuracy: 0.9971\n",
            "Epoch 192/200\n",
            "11/11 [==============================] - 0s 2ms/step - loss: 0.2949 - accuracy: 0.8542\n",
            "Epoch 193/200\n",
            "11/11 [==============================] - 0s 2ms/step - loss: 0.1418 - accuracy: 0.9359\n",
            "Epoch 194/200\n",
            "11/11 [==============================] - 0s 2ms/step - loss: 0.0173 - accuracy: 1.0000\n",
            "Epoch 195/200\n",
            "11/11 [==============================] - 0s 2ms/step - loss: 0.0068 - accuracy: 1.0000\n",
            "Epoch 196/200\n",
            "11/11 [==============================] - 0s 2ms/step - loss: 0.0045 - accuracy: 1.0000\n",
            "Epoch 197/200\n",
            "11/11 [==============================] - 0s 2ms/step - loss: 0.0037 - accuracy: 1.0000\n",
            "Epoch 198/200\n",
            "11/11 [==============================] - 0s 2ms/step - loss: 0.0033 - accuracy: 1.0000\n",
            "Epoch 199/200\n",
            "11/11 [==============================] - 0s 3ms/step - loss: 0.0030 - accuracy: 1.0000\n",
            "Epoch 200/200\n",
            "11/11 [==============================] - 0s 2ms/step - loss: 0.0028 - accuracy: 1.0000\n",
            "Predicted   0   1\n",
            "Actual           \n",
            "0          72   0\n",
            "1           0  75\n"
          ],
          "name": "stdout"
        }
      ]
    },
    {
      "cell_type": "code",
      "metadata": {
        "id": "6S5a4-cashbB"
      },
      "source": [
        "# print(y_pred.ravel())"
      ],
      "execution_count": 24,
      "outputs": []
    },
    {
      "cell_type": "code",
      "metadata": {
        "id": "iA2XIpGOyipM"
      },
      "source": [
        "Grain=[]; Ind=[]; Size=[]\n",
        "k=0\n",
        "for item in y_pred:\n",
        "  if(item == 0):\n",
        "    Ind.append(k)\n",
        "  k=k+1\n",
        "\n",
        "df = df.reset_index(drop=True)\n",
        "\n",
        "df_size = df.drop(df.index[Ind])\n",
        "\n",
        "Width=np.array(df_size['Width'])\n",
        "\n",
        "# print(Width)\n",
        "\n",
        "# print(df_size.shape)"
      ],
      "execution_count": 25,
      "outputs": []
    },
    {
      "cell_type": "code",
      "metadata": {
        "id": "06lkGMZo9uKV"
      },
      "source": [
        "# pd.set_option('display.max_rows', None)\n",
        "# print(df_size)"
      ],
      "execution_count": 26,
      "outputs": []
    },
    {
      "cell_type": "code",
      "metadata": {
        "id": "EIqWqspygJtw",
        "colab": {
          "base_uri": "https://localhost:8080/",
          "height": 247
        },
        "outputId": "5149d4b1-5754-4b19-d373-f674a8d80eb4"
      },
      "source": [
        "df.head()"
      ],
      "execution_count": 27,
      "outputs": [
        {
          "output_type": "execute_result",
          "data": {
            "text/html": [
              "<div>\n",
              "<style scoped>\n",
              "    .dataframe tbody tr th:only-of-type {\n",
              "        vertical-align: middle;\n",
              "    }\n",
              "\n",
              "    .dataframe tbody tr th {\n",
              "        vertical-align: top;\n",
              "    }\n",
              "\n",
              "    .dataframe thead th {\n",
              "        text-align: right;\n",
              "    }\n",
              "</style>\n",
              "<table border=\"1\" class=\"dataframe\">\n",
              "  <thead>\n",
              "    <tr style=\"text-align: right;\">\n",
              "      <th></th>\n",
              "      <th>Width</th>\n",
              "      <th>0</th>\n",
              "      <th>1</th>\n",
              "      <th>2</th>\n",
              "      <th>3</th>\n",
              "      <th>4</th>\n",
              "      <th>5</th>\n",
              "      <th>6</th>\n",
              "      <th>7</th>\n",
              "      <th>8</th>\n",
              "      <th>9</th>\n",
              "      <th>10</th>\n",
              "      <th>11</th>\n",
              "      <th>12</th>\n",
              "      <th>13</th>\n",
              "      <th>14</th>\n",
              "      <th>15</th>\n",
              "      <th>16</th>\n",
              "      <th>17</th>\n",
              "      <th>18</th>\n",
              "      <th>19</th>\n",
              "      <th>20</th>\n",
              "      <th>21</th>\n",
              "      <th>22</th>\n",
              "      <th>23</th>\n",
              "      <th>24</th>\n",
              "      <th>25</th>\n",
              "      <th>26</th>\n",
              "      <th>27</th>\n",
              "      <th>28</th>\n",
              "      <th>29</th>\n",
              "      <th>30</th>\n",
              "      <th>31</th>\n",
              "      <th>32</th>\n",
              "      <th>33</th>\n",
              "      <th>34</th>\n",
              "      <th>35</th>\n",
              "      <th>36</th>\n",
              "      <th>37</th>\n",
              "      <th>38</th>\n",
              "      <th>...</th>\n",
              "      <th>744</th>\n",
              "      <th>745</th>\n",
              "      <th>746</th>\n",
              "      <th>747</th>\n",
              "      <th>748</th>\n",
              "      <th>749</th>\n",
              "      <th>750</th>\n",
              "      <th>751</th>\n",
              "      <th>752</th>\n",
              "      <th>753</th>\n",
              "      <th>754</th>\n",
              "      <th>755</th>\n",
              "      <th>756</th>\n",
              "      <th>757</th>\n",
              "      <th>758</th>\n",
              "      <th>759</th>\n",
              "      <th>760</th>\n",
              "      <th>761</th>\n",
              "      <th>762</th>\n",
              "      <th>763</th>\n",
              "      <th>764</th>\n",
              "      <th>765</th>\n",
              "      <th>766</th>\n",
              "      <th>767</th>\n",
              "      <th>768</th>\n",
              "      <th>769</th>\n",
              "      <th>770</th>\n",
              "      <th>771</th>\n",
              "      <th>772</th>\n",
              "      <th>773</th>\n",
              "      <th>774</th>\n",
              "      <th>775</th>\n",
              "      <th>776</th>\n",
              "      <th>777</th>\n",
              "      <th>778</th>\n",
              "      <th>779</th>\n",
              "      <th>780</th>\n",
              "      <th>781</th>\n",
              "      <th>782</th>\n",
              "      <th>783</th>\n",
              "    </tr>\n",
              "  </thead>\n",
              "  <tbody>\n",
              "    <tr>\n",
              "      <th>0</th>\n",
              "      <td>121</td>\n",
              "      <td>83.761772</td>\n",
              "      <td>84.270752</td>\n",
              "      <td>85.166512</td>\n",
              "      <td>82.250183</td>\n",
              "      <td>82.021790</td>\n",
              "      <td>80.721184</td>\n",
              "      <td>74.420807</td>\n",
              "      <td>67.317329</td>\n",
              "      <td>54.835808</td>\n",
              "      <td>62.504818</td>\n",
              "      <td>59.595181</td>\n",
              "      <td>68.714363</td>\n",
              "      <td>72.635956</td>\n",
              "      <td>83.725494</td>\n",
              "      <td>73.267609</td>\n",
              "      <td>88.107437</td>\n",
              "      <td>90.792427</td>\n",
              "      <td>99.999321</td>\n",
              "      <td>98.067017</td>\n",
              "      <td>92.782661</td>\n",
              "      <td>86.467667</td>\n",
              "      <td>78.346634</td>\n",
              "      <td>66.070763</td>\n",
              "      <td>58.414593</td>\n",
              "      <td>80.167816</td>\n",
              "      <td>86.716690</td>\n",
              "      <td>89.126633</td>\n",
              "      <td>92.293221</td>\n",
              "      <td>83.170135</td>\n",
              "      <td>82.660065</td>\n",
              "      <td>83.370605</td>\n",
              "      <td>80.409470</td>\n",
              "      <td>81.756096</td>\n",
              "      <td>79.357224</td>\n",
              "      <td>73.728096</td>\n",
              "      <td>67.182503</td>\n",
              "      <td>64.192947</td>\n",
              "      <td>67.276215</td>\n",
              "      <td>67.657471</td>\n",
              "      <td>...</td>\n",
              "      <td>67.654877</td>\n",
              "      <td>65.948433</td>\n",
              "      <td>61.864422</td>\n",
              "      <td>60.477631</td>\n",
              "      <td>60.894135</td>\n",
              "      <td>60.646065</td>\n",
              "      <td>59.462059</td>\n",
              "      <td>57.867218</td>\n",
              "      <td>57.689846</td>\n",
              "      <td>60.026161</td>\n",
              "      <td>63.746532</td>\n",
              "      <td>72.782120</td>\n",
              "      <td>86.347855</td>\n",
              "      <td>76.352226</td>\n",
              "      <td>76.060722</td>\n",
              "      <td>86.380913</td>\n",
              "      <td>91.433571</td>\n",
              "      <td>87.651321</td>\n",
              "      <td>79.403938</td>\n",
              "      <td>76.372444</td>\n",
              "      <td>78.346771</td>\n",
              "      <td>81.433441</td>\n",
              "      <td>83.840927</td>\n",
              "      <td>82.695099</td>\n",
              "      <td>80.271973</td>\n",
              "      <td>78.477974</td>\n",
              "      <td>75.006485</td>\n",
              "      <td>73.725571</td>\n",
              "      <td>66.493881</td>\n",
              "      <td>63.779320</td>\n",
              "      <td>60.441437</td>\n",
              "      <td>60.615189</td>\n",
              "      <td>57.434807</td>\n",
              "      <td>57.166248</td>\n",
              "      <td>57.420944</td>\n",
              "      <td>59.091728</td>\n",
              "      <td>58.043648</td>\n",
              "      <td>60.079155</td>\n",
              "      <td>64.896187</td>\n",
              "      <td>70.844269</td>\n",
              "    </tr>\n",
              "    <tr>\n",
              "      <th>1</th>\n",
              "      <td>155</td>\n",
              "      <td>91.023354</td>\n",
              "      <td>90.425980</td>\n",
              "      <td>86.570747</td>\n",
              "      <td>79.050247</td>\n",
              "      <td>122.974709</td>\n",
              "      <td>146.404556</td>\n",
              "      <td>145.585785</td>\n",
              "      <td>142.608719</td>\n",
              "      <td>133.611252</td>\n",
              "      <td>136.579163</td>\n",
              "      <td>138.755463</td>\n",
              "      <td>139.131409</td>\n",
              "      <td>140.590057</td>\n",
              "      <td>144.327911</td>\n",
              "      <td>149.274979</td>\n",
              "      <td>147.148849</td>\n",
              "      <td>129.568222</td>\n",
              "      <td>92.517052</td>\n",
              "      <td>92.905930</td>\n",
              "      <td>91.833549</td>\n",
              "      <td>103.796555</td>\n",
              "      <td>106.359131</td>\n",
              "      <td>98.344635</td>\n",
              "      <td>100.239426</td>\n",
              "      <td>103.381149</td>\n",
              "      <td>104.662979</td>\n",
              "      <td>102.373405</td>\n",
              "      <td>104.081375</td>\n",
              "      <td>93.445168</td>\n",
              "      <td>89.561882</td>\n",
              "      <td>86.100403</td>\n",
              "      <td>83.204086</td>\n",
              "      <td>97.933281</td>\n",
              "      <td>135.999893</td>\n",
              "      <td>140.874847</td>\n",
              "      <td>142.023819</td>\n",
              "      <td>144.508636</td>\n",
              "      <td>139.919083</td>\n",
              "      <td>139.485626</td>\n",
              "      <td>...</td>\n",
              "      <td>117.684425</td>\n",
              "      <td>123.886711</td>\n",
              "      <td>128.211578</td>\n",
              "      <td>138.318054</td>\n",
              "      <td>174.839615</td>\n",
              "      <td>193.657074</td>\n",
              "      <td>197.217819</td>\n",
              "      <td>196.928940</td>\n",
              "      <td>190.095169</td>\n",
              "      <td>146.218704</td>\n",
              "      <td>24.336943</td>\n",
              "      <td>42.711887</td>\n",
              "      <td>63.299980</td>\n",
              "      <td>74.756218</td>\n",
              "      <td>75.464020</td>\n",
              "      <td>85.180145</td>\n",
              "      <td>90.892197</td>\n",
              "      <td>97.978821</td>\n",
              "      <td>102.601921</td>\n",
              "      <td>100.587517</td>\n",
              "      <td>95.307724</td>\n",
              "      <td>94.270729</td>\n",
              "      <td>94.981644</td>\n",
              "      <td>94.212532</td>\n",
              "      <td>97.797752</td>\n",
              "      <td>105.089676</td>\n",
              "      <td>105.229149</td>\n",
              "      <td>105.877380</td>\n",
              "      <td>109.965210</td>\n",
              "      <td>119.132584</td>\n",
              "      <td>127.622192</td>\n",
              "      <td>136.799286</td>\n",
              "      <td>158.074631</td>\n",
              "      <td>169.810165</td>\n",
              "      <td>171.430359</td>\n",
              "      <td>173.813538</td>\n",
              "      <td>166.921631</td>\n",
              "      <td>103.013031</td>\n",
              "      <td>23.113714</td>\n",
              "      <td>43.493568</td>\n",
              "    </tr>\n",
              "    <tr>\n",
              "      <th>2</th>\n",
              "      <td>130</td>\n",
              "      <td>92.139893</td>\n",
              "      <td>89.986511</td>\n",
              "      <td>87.286865</td>\n",
              "      <td>84.309822</td>\n",
              "      <td>84.146751</td>\n",
              "      <td>82.452545</td>\n",
              "      <td>80.950302</td>\n",
              "      <td>78.194786</td>\n",
              "      <td>72.291359</td>\n",
              "      <td>72.304619</td>\n",
              "      <td>77.237396</td>\n",
              "      <td>87.651596</td>\n",
              "      <td>88.362839</td>\n",
              "      <td>90.857994</td>\n",
              "      <td>86.352188</td>\n",
              "      <td>85.491127</td>\n",
              "      <td>87.329941</td>\n",
              "      <td>83.607819</td>\n",
              "      <td>77.075974</td>\n",
              "      <td>55.696102</td>\n",
              "      <td>42.380592</td>\n",
              "      <td>43.542252</td>\n",
              "      <td>44.814915</td>\n",
              "      <td>47.168995</td>\n",
              "      <td>41.922840</td>\n",
              "      <td>35.465565</td>\n",
              "      <td>24.642603</td>\n",
              "      <td>16.749115</td>\n",
              "      <td>88.537521</td>\n",
              "      <td>86.887810</td>\n",
              "      <td>85.139648</td>\n",
              "      <td>83.489944</td>\n",
              "      <td>84.193138</td>\n",
              "      <td>83.057518</td>\n",
              "      <td>80.155510</td>\n",
              "      <td>76.114326</td>\n",
              "      <td>74.301300</td>\n",
              "      <td>72.988167</td>\n",
              "      <td>73.932785</td>\n",
              "      <td>...</td>\n",
              "      <td>83.222969</td>\n",
              "      <td>62.199059</td>\n",
              "      <td>62.853252</td>\n",
              "      <td>58.642128</td>\n",
              "      <td>54.040474</td>\n",
              "      <td>54.603790</td>\n",
              "      <td>56.015385</td>\n",
              "      <td>57.356926</td>\n",
              "      <td>60.509109</td>\n",
              "      <td>64.498695</td>\n",
              "      <td>68.680954</td>\n",
              "      <td>71.561424</td>\n",
              "      <td>82.382004</td>\n",
              "      <td>80.754082</td>\n",
              "      <td>82.928284</td>\n",
              "      <td>83.547935</td>\n",
              "      <td>123.656815</td>\n",
              "      <td>156.339874</td>\n",
              "      <td>160.198822</td>\n",
              "      <td>163.567352</td>\n",
              "      <td>165.907211</td>\n",
              "      <td>167.354340</td>\n",
              "      <td>160.872208</td>\n",
              "      <td>153.693024</td>\n",
              "      <td>141.223206</td>\n",
              "      <td>132.092789</td>\n",
              "      <td>127.907928</td>\n",
              "      <td>110.946045</td>\n",
              "      <td>78.823906</td>\n",
              "      <td>58.061306</td>\n",
              "      <td>59.484734</td>\n",
              "      <td>58.095860</td>\n",
              "      <td>57.808044</td>\n",
              "      <td>60.503433</td>\n",
              "      <td>65.169472</td>\n",
              "      <td>68.680946</td>\n",
              "      <td>67.378220</td>\n",
              "      <td>68.303200</td>\n",
              "      <td>71.249466</td>\n",
              "      <td>72.198586</td>\n",
              "    </tr>\n",
              "    <tr>\n",
              "      <th>3</th>\n",
              "      <td>200</td>\n",
              "      <td>133.791214</td>\n",
              "      <td>146.590805</td>\n",
              "      <td>155.272797</td>\n",
              "      <td>143.117203</td>\n",
              "      <td>140.196411</td>\n",
              "      <td>133.796005</td>\n",
              "      <td>132.045990</td>\n",
              "      <td>125.355995</td>\n",
              "      <td>112.301193</td>\n",
              "      <td>113.040794</td>\n",
              "      <td>111.942406</td>\n",
              "      <td>107.948807</td>\n",
              "      <td>103.680000</td>\n",
              "      <td>102.607597</td>\n",
              "      <td>108.778000</td>\n",
              "      <td>117.130798</td>\n",
              "      <td>117.351196</td>\n",
              "      <td>115.946404</td>\n",
              "      <td>113.009201</td>\n",
              "      <td>96.430397</td>\n",
              "      <td>76.439590</td>\n",
              "      <td>60.309605</td>\n",
              "      <td>53.962799</td>\n",
              "      <td>81.028000</td>\n",
              "      <td>94.764000</td>\n",
              "      <td>92.723602</td>\n",
              "      <td>85.402794</td>\n",
              "      <td>78.430801</td>\n",
              "      <td>134.179611</td>\n",
              "      <td>144.276794</td>\n",
              "      <td>160.691208</td>\n",
              "      <td>184.609589</td>\n",
              "      <td>123.889603</td>\n",
              "      <td>115.854797</td>\n",
              "      <td>119.774406</td>\n",
              "      <td>119.318794</td>\n",
              "      <td>112.451202</td>\n",
              "      <td>112.208405</td>\n",
              "      <td>112.688400</td>\n",
              "      <td>...</td>\n",
              "      <td>81.742409</td>\n",
              "      <td>80.297600</td>\n",
              "      <td>81.110802</td>\n",
              "      <td>84.719604</td>\n",
              "      <td>90.714798</td>\n",
              "      <td>95.037605</td>\n",
              "      <td>74.576393</td>\n",
              "      <td>49.942398</td>\n",
              "      <td>52.430801</td>\n",
              "      <td>34.981201</td>\n",
              "      <td>114.049599</td>\n",
              "      <td>140.849594</td>\n",
              "      <td>105.493996</td>\n",
              "      <td>103.279999</td>\n",
              "      <td>100.786400</td>\n",
              "      <td>67.117996</td>\n",
              "      <td>24.390800</td>\n",
              "      <td>33.798401</td>\n",
              "      <td>51.666000</td>\n",
              "      <td>66.243210</td>\n",
              "      <td>67.244797</td>\n",
              "      <td>68.478798</td>\n",
              "      <td>69.257599</td>\n",
              "      <td>73.220001</td>\n",
              "      <td>73.747200</td>\n",
              "      <td>74.152000</td>\n",
              "      <td>76.622795</td>\n",
              "      <td>77.793190</td>\n",
              "      <td>83.402802</td>\n",
              "      <td>85.515999</td>\n",
              "      <td>85.760002</td>\n",
              "      <td>88.087196</td>\n",
              "      <td>91.582413</td>\n",
              "      <td>98.555206</td>\n",
              "      <td>92.715202</td>\n",
              "      <td>57.381603</td>\n",
              "      <td>43.848396</td>\n",
              "      <td>34.050404</td>\n",
              "      <td>125.129608</td>\n",
              "      <td>129.708801</td>\n",
              "    </tr>\n",
              "    <tr>\n",
              "      <th>4</th>\n",
              "      <td>190</td>\n",
              "      <td>102.885422</td>\n",
              "      <td>102.120438</td>\n",
              "      <td>105.926308</td>\n",
              "      <td>108.057281</td>\n",
              "      <td>122.643875</td>\n",
              "      <td>134.914001</td>\n",
              "      <td>134.748352</td>\n",
              "      <td>100.936279</td>\n",
              "      <td>46.560772</td>\n",
              "      <td>47.940048</td>\n",
              "      <td>46.758888</td>\n",
              "      <td>44.701492</td>\n",
              "      <td>45.348145</td>\n",
              "      <td>44.671577</td>\n",
              "      <td>43.225483</td>\n",
              "      <td>47.197781</td>\n",
              "      <td>45.354233</td>\n",
              "      <td>45.558334</td>\n",
              "      <td>48.815289</td>\n",
              "      <td>48.818172</td>\n",
              "      <td>49.255840</td>\n",
              "      <td>50.021709</td>\n",
              "      <td>36.346481</td>\n",
              "      <td>5.060498</td>\n",
              "      <td>2.141274</td>\n",
              "      <td>2.274460</td>\n",
              "      <td>2.043435</td>\n",
              "      <td>2.000000</td>\n",
              "      <td>108.456841</td>\n",
              "      <td>106.110016</td>\n",
              "      <td>107.943153</td>\n",
              "      <td>106.252289</td>\n",
              "      <td>115.327751</td>\n",
              "      <td>129.312225</td>\n",
              "      <td>134.089752</td>\n",
              "      <td>99.553902</td>\n",
              "      <td>40.388142</td>\n",
              "      <td>48.430248</td>\n",
              "      <td>43.526093</td>\n",
              "      <td>...</td>\n",
              "      <td>0.048753</td>\n",
              "      <td>0.000000</td>\n",
              "      <td>0.000000</td>\n",
              "      <td>0.000000</td>\n",
              "      <td>0.000000</td>\n",
              "      <td>0.000000</td>\n",
              "      <td>0.000000</td>\n",
              "      <td>0.000000</td>\n",
              "      <td>0.000000</td>\n",
              "      <td>0.000000</td>\n",
              "      <td>0.000000</td>\n",
              "      <td>0.000000</td>\n",
              "      <td>2.000000</td>\n",
              "      <td>2.000000</td>\n",
              "      <td>2.055069</td>\n",
              "      <td>17.905039</td>\n",
              "      <td>51.770412</td>\n",
              "      <td>61.231018</td>\n",
              "      <td>48.160328</td>\n",
              "      <td>15.248641</td>\n",
              "      <td>2.183490</td>\n",
              "      <td>0.988809</td>\n",
              "      <td>1.000000</td>\n",
              "      <td>1.000000</td>\n",
              "      <td>1.000000</td>\n",
              "      <td>1.000000</td>\n",
              "      <td>0.280776</td>\n",
              "      <td>0.000000</td>\n",
              "      <td>0.000000</td>\n",
              "      <td>0.000000</td>\n",
              "      <td>0.000000</td>\n",
              "      <td>0.000000</td>\n",
              "      <td>0.000000</td>\n",
              "      <td>0.000000</td>\n",
              "      <td>0.000000</td>\n",
              "      <td>0.000000</td>\n",
              "      <td>0.000000</td>\n",
              "      <td>0.000000</td>\n",
              "      <td>0.000000</td>\n",
              "      <td>0.000000</td>\n",
              "    </tr>\n",
              "  </tbody>\n",
              "</table>\n",
              "<p>5 rows × 785 columns</p>\n",
              "</div>"
            ],
            "text/plain": [
              "   Width           0           1  ...         781         782         783\n",
              "0    121   83.761772   84.270752  ...   60.079155   64.896187   70.844269\n",
              "1    155   91.023354   90.425980  ...  103.013031   23.113714   43.493568\n",
              "2    130   92.139893   89.986511  ...   68.303200   71.249466   72.198586\n",
              "3    200  133.791214  146.590805  ...   34.050404  125.129608  129.708801\n",
              "4    190  102.885422  102.120438  ...    0.000000    0.000000    0.000000\n",
              "\n",
              "[5 rows x 785 columns]"
            ]
          },
          "metadata": {
            "tags": []
          },
          "execution_count": 27
        }
      ]
    },
    {
      "cell_type": "code",
      "metadata": {
        "id": "ciUjF5tmdqLC",
        "colab": {
          "base_uri": "https://localhost:8080/",
          "height": 283
        },
        "outputId": "a25cb1b0-10ca-442d-a21d-027ecce630f6"
      },
      "source": [
        "Size=28\n",
        "qual_img=7\n",
        "L = Width[qual_img]\n",
        "data=np.array(df_size.drop('Width',axis=1).iloc[qual_img]).reshape(Size,Size)\n",
        "img = Image.fromarray(data.astype('uint8'), mode='L')\n",
        "img=np.float32(img)\n",
        "img28=cv2.resize(img,(Size,Size), interpolation = cv2.INTER_AREA)\n",
        "Foto=np.array(img28).reshape(28,28)\n",
        "plt.imshow(Foto, cmap = \"gray\")"
      ],
      "execution_count": 28,
      "outputs": [
        {
          "output_type": "execute_result",
          "data": {
            "text/plain": [
              "<matplotlib.image.AxesImage at 0x7fe73137def0>"
            ]
          },
          "metadata": {
            "tags": []
          },
          "execution_count": 28
        },
        {
          "output_type": "display_data",
          "data": {
            "image/png": "[encoded data removed]",
            "text/plain": [
              "<Figure size 432x288 with 1 Axes>"
            ]
          },
          "metadata": {
            "tags": [],
            "needs_background": "light"
          }
        }
      ]
    },
    {
      "cell_type": "code",
      "metadata": {
        "id": "d6UQexMtkz5t"
      },
      "source": [
        "df_getBetter = GetBetter(img)\n",
        "#df_getBetter = GetBetter(data)"
      ],
      "execution_count": 29,
      "outputs": []
    },
    {
      "cell_type": "code",
      "metadata": {
        "id": "BRo2nqCJ09NP",
        "colab": {
          "base_uri": "https://localhost:8080/"
        },
        "outputId": "2933a24c-d544-4100-d0f4-482f8024c048"
      },
      "source": [
        "df_getBetter.shape"
      ],
      "execution_count": 30,
      "outputs": [
        {
          "output_type": "execute_result",
          "data": {
            "text/plain": [
              "(50, 785)"
            ]
          },
          "metadata": {
            "tags": []
          },
          "execution_count": 30
        }
      ]
    },
    {
      "cell_type": "code",
      "metadata": {
        "id": "vJgilCmz7I9A",
        "colab": {
          "base_uri": "https://localhost:8080/",
          "height": 283
        },
        "outputId": "c06c5b11-0461-4585-a487-1b11f4416e2c"
      },
      "source": [
        "qual_img =21\n",
        "data=np.array(df_getBetter.drop('Width',axis=1).iloc[qual_img]).reshape(Size,Size)\n",
        "img = Image.fromarray(data.astype('uint8'), mode='L')\n",
        "img=np.float32(img)\n",
        "img28=cv2.resize(img,(Size,Size), interpolation = cv2.INTER_AREA)\n",
        "plt.imshow(img28, cmap = \"gray\")\n"
      ],
      "execution_count": 31,
      "outputs": [
        {
          "output_type": "execute_result",
          "data": {
            "text/plain": [
              "<matplotlib.image.AxesImage at 0x7fe72f53def0>"
            ]
          },
          "metadata": {
            "tags": []
          },
          "execution_count": 31
        },
        {
          "output_type": "display_data",
          "data": {
            "image/png": "[encoded data removed]",
            "text/plain": [
              "<Figure size 432x288 with 1 Axes>"
            ]
          },
          "metadata": {
            "tags": [],
            "needs_background": "light"
          }
        }
      ]
    },
    {
      "cell_type": "code",
      "metadata": {
        "id": "5DXbVnD5HaeO",
        "colab": {
          "base_uri": "https://localhost:8080/",
          "height": 283
        },
        "outputId": "06219cd1-f04f-4eba-c29c-a19620f0f67f"
      },
      "source": [
        "plt.imshow(Foto, cmap = \"gray\")\n"
      ],
      "execution_count": 32,
      "outputs": [
        {
          "output_type": "execute_result",
          "data": {
            "text/plain": [
              "<matplotlib.image.AxesImage at 0x7fe72f580588>"
            ]
          },
          "metadata": {
            "tags": []
          },
          "execution_count": 32
        },
        {
          "output_type": "display_data",
          "data": {
            "image/png": "[encoded data removed]",
            "text/plain": [
              "<Figure size 432x288 with 1 Axes>"
            ]
          },
          "metadata": {
            "tags": [],
            "needs_background": "light"
          }
        }
      ]
    },
    {
      "cell_type": "code",
      "metadata": {
        "id": "ucryOhXfHcS1",
        "colab": {
          "base_uri": "https://localhost:8080/",
          "height": 283
        },
        "outputId": "d1f9f946-41c5-4079-da57-5837b4166fa3"
      },
      "source": [
        "plt.imshow(img28, cmap = \"gray\")"
      ],
      "execution_count": 33,
      "outputs": [
        {
          "output_type": "execute_result",
          "data": {
            "text/plain": [
              "<matplotlib.image.AxesImage at 0x7fe72f503208>"
            ]
          },
          "metadata": {
            "tags": []
          },
          "execution_count": 33
        },
        {
          "output_type": "display_data",
          "data": {
            "image/png": "[encoded data removed]",
            "text/plain": [
              "<Figure size 432x288 with 1 Axes>"
            ]
          },
          "metadata": {
            "tags": [],
            "needs_background": "light"
          }
        }
      ]
    },
    {
      "cell_type": "code",
      "metadata": {
        "id": "V-MTA4fXg2W0"
      },
      "source": [
        "mean_value = np.mean(img)\n",
        "img_new = img.copy()"
      ],
      "execution_count": 34,
      "outputs": []
    },
    {
      "cell_type": "code",
      "metadata": {
        "id": "JbcfWPMdewq3",
        "colab": {
          "base_uri": "https://localhost:8080/",
          "height": 283
        },
        "outputId": "c11745f4-a996-47a4-adc2-ef9bdcd149ef"
      },
      "source": [
        "'''\n",
        "for i in range(28):\n",
        "  for j in range(28):\n",
        "    if img[i,j] < mean_value:\n",
        "      img_new[i,j] = 255\n",
        "    else:\n",
        "      img_new[i,j] = 0\n",
        "'''\n",
        "img28=cv2.resize(img_new,(Size,Size), interpolation = cv2.INTER_AREA)\n",
        "Foto=np.array(img28).reshape(28,28)\n",
        "plt.imshow(Foto, cmap = \"gray\")\n"
      ],
      "execution_count": 35,
      "outputs": [
        {
          "output_type": "execute_result",
          "data": {
            "text/plain": [
              "<matplotlib.image.AxesImage at 0x7fe72f4df470>"
            ]
          },
          "metadata": {
            "tags": []
          },
          "execution_count": 35
        },
        {
          "output_type": "display_data",
          "data": {
            "image/png": "[encoded data removed]",
            "text/plain": [
              "<Figure size 432x288 with 1 Axes>"
            ]
          },
          "metadata": {
            "tags": [],
            "needs_background": "light"
          }
        }
      ]
    },
    {
      "cell_type": "code",
      "metadata": {
        "id": "spRNBSwifDqQ",
        "colab": {
          "base_uri": "https://localhost:8080/"
        },
        "outputId": "5c9519b6-a5ca-4a82-eca7-e4733e738814"
      },
      "source": [
        "L = Width[qual_img]\n",
        "Area = np.sum(img_new) / (255.0 * 28 * 28)* L*L\n",
        "print(Area)"
      ],
      "execution_count": 36,
      "outputs": [
        {
          "output_type": "stream",
          "text": [
            "206.512725090036\n"
          ],
          "name": "stdout"
        }
      ]
    },
    {
      "cell_type": "code",
      "metadata": {
        "id": "6GP_DXsWibOX"
      },
      "source": [
        "Area_All, Diameter_All=PSDArea(df_size) \n"
      ],
      "execution_count": 37,
      "outputs": []
    },
    {
      "cell_type": "code",
      "metadata": {
        "id": "3ydbrnjewBYL",
        "colab": {
          "base_uri": "https://localhost:8080/"
        },
        "outputId": "698e7c65-e179-42f4-bab7-5113fc8952d6"
      },
      "source": [
        "df_size.shape"
      ],
      "execution_count": 38,
      "outputs": [
        {
          "output_type": "execute_result",
          "data": {
            "text/plain": [
              "(146, 785)"
            ]
          },
          "metadata": {
            "tags": []
          },
          "execution_count": 38
        }
      ]
    },
    {
      "cell_type": "code",
      "metadata": {
        "id": "3L3IfgxMs3dI",
        "colab": {
          "base_uri": "https://localhost:8080/"
        },
        "outputId": "e491269a-2fab-40e8-fa65-a2082a8e38c2"
      },
      "source": [
        "# print(Area_All)\n",
        "print(Diameter_All)"
      ],
      "execution_count": 39,
      "outputs": [
        {
          "output_type": "stream",
          "text": [
            "[1.0732161515115186, 1.4347267100493573, 1.0808580862060848, 1.6249537031046053, 1.536860281255978, 1.6299770636230095, 1.0689926067773774, 1.1450687944341125, 1.8449383620588546, 1.6498283444520951, 0.8515338763942516, 1.6338929631890697, 0.8882083151323499, 1.545180222523664, 1.529817687167308, 1.4631142121787772, 1.0309466410133823, 1.419740229363182, 1.362966980005216, 1.2783707411193663, 0.8743751351579282, 1.1908383849248019, 1.2053144233673856, 1.3823198682676654, 0.9806232107227637, 0.9885610085107589, 1.4716298558344385, 1.368813626441024, 1.1765934621856906, 1.3241027248335755, 1.1395104739649062, 1.3652212975277949, 1.6864255032825248, 1.424120939952569, 1.3646837515181496, 0.9710249770417603, 1.6182290653727867, 1.012161364458099, 1.3162124995147306, 0.9742061794629281, 1.2871043544194205, 1.5071041997865124, 1.3293202803624542, 1.0671574318689354, 1.4892737489100374, 0.843274870205896, 1.737647617232965, 0.9188126925848054, 1.0124802895200897, 1.8988099906516387, 1.2714819561712738, 1.5245683561966485, 1.4757694038205509, 0.959616658767089, 1.6343255246592054, 1.511117516472849, 1.1557221059568266, 0.8979514476620554, 1.4974437255139785, 1.6753861286596976, 1.6623824448923907, 1.171047671784496, 1.3383318049485589, 1.2797892997331344, 1.7036606061635928, 1.666331454586955, 1.7054133810746255, 1.5694480117253555, 1.401802796971592, 1.5372005686323216, 0.8645495380218117, 0.9859916305940007, 0.9421579100949204, 1.0967181382574285, 1.1554454998682915, 1.7076860034530357, 1.5405939998243885, 1.5364664369522398, 1.050747552857098, 1.0778091151498406, 1.8273071472965763, 1.2708696751177246, 1.5154477680038505, 1.2566338337629483, 1.5661063469468373, 1.2410514330779499, 0.8249546546955534, 1.0538001687423495, 0.9859527239419943, 1.6331650958409445, 0.9920794802753417, 1.4254314759623212, 1.3794555101507198, 1.1752073347567602, 1.3381237259277685, 1.1023304231563307, 1.607546803628394, 1.1111417749070296, 1.567952536382495, 1.128488486832316, 1.5446337615568875, 1.357041910588945, 1.1180969761671369, 1.647092084333027, 1.5616151268331573, 1.4021094085783983, 0.9591586608486941, 1.3282289598362536, 1.4220733171250952, 1.3060781060786406, 1.8266308732201109, 1.0505018815635911, 1.4745576869654078, 0.8816724771415874, 1.0109767302915735, 1.4977433041356645, 1.3018618487181517, 0.7935605698434958, 1.6949461725135269, 1.187512086606884, 1.3751277138106845, 1.24039618816597, 1.2219235734625098, 1.6516992602036293, 1.4260057966600053, 1.5008087856292738, 1.4351566157677178, 0.9336482844309526, 1.2509245365945263, 0.9848018145851302, 1.6467099411208794, 1.1313106169091882, 1.189504299889765, 1.2887826483475562, 1.252450058114165, 1.0562199070179936, 0.8686265560986148, 1.8152053546732505, 1.1019908520097965, 1.5743345663448651, 0.9439895884661914, 1.053684857305947, 1.024644852309064, 1.5610247101133075, 1.008708502345498, 1.574638189495951]\n"
          ],
          "name": "stdout"
        }
      ]
    },
    {
      "cell_type": "code",
      "metadata": {
        "id": "oeLlypq5gbFa"
      },
      "source": [
        ""
      ],
      "execution_count": 39,
      "outputs": []
    },
    {
      "cell_type": "code",
      "metadata": {
        "id": "YJFWGVQJLwRo",
        "colab": {
          "base_uri": "https://localhost:8080/"
        },
        "outputId": "3bfa1424-3808-4e0f-ec2b-3c72ca9c2495"
      },
      "source": [
        "diam = Diameter_All.copy()\n",
        "PSD_value, Perc_value = PSD(diam)\n",
        "print(Perc_value)"
      ],
      "execution_count": 40,
      "outputs": [
        {
          "output_type": "stream",
          "text": [
            "[ 0.          0.          0.          0.          0.          1.36986301\n",
            " 15.06849315 21.91780822 61.64383562]\n"
          ],
          "name": "stdout"
        }
      ]
    },
    {
      "cell_type": "code",
      "metadata": {
        "id": "Zvked-F_kPwi",
        "colab": {
          "base_uri": "https://localhost:8080/"
        },
        "outputId": "a5a7d359-a260-4536-f5a0-5ca10bbc1137"
      },
      "source": [
        "!git clone https://github.com/ucfilho/marquesgabi_out_2020\n",
        "%cd marquesgabi_out_2020\n",
        "PSD_imageJ = 'Areas_ImageJ.csv'\n",
        "PSD_new = pd.read_csv(PSD_imageJ)\n",
        "print(PSD_new.head(3))"
      ],
      "execution_count": 41,
      "outputs": [
        {
          "output_type": "stream",
          "text": [
            "fatal: destination path 'marquesgabi_out_2020' already exists and is not an empty directory.\n",
            "/content/marquesgabi_fev_2020/marquesgabi_out_2020/Doutorado/marquesgabi_set_2020/Doutorado/Doutorado/marquesgabi_out_2020\n",
            "   Juntas   Area\n",
            "0       1  2.001\n",
            "1       2  0.820\n",
            "2       3  1.270\n"
          ],
          "name": "stdout"
        }
      ]
    },
    {
      "cell_type": "code",
      "metadata": {
        "id": "004Ki_RdzWqi"
      },
      "source": [
        "Area = np.array(PSD_new['Area'])\n",
        "diam_teste = []\n",
        "for A in Area:\n",
        "  diam_teste.append((4*A/np.pi)**0.5) \n",
        "\n",
        "Diam1 = [ (4*A/np.pi)**0.5 for A in Area]"
      ],
      "execution_count": 42,
      "outputs": []
    },
    {
      "cell_type": "code",
      "metadata": {
        "id": "40Fdww7M1KSx",
        "colab": {
          "base_uri": "https://localhost:8080/"
        },
        "outputId": "fdd60df0-e03f-4d90-e3e6-5e9a6b8012bf"
      },
      "source": [
        "PSD_new, Perc_new = PSD(Diam1)  # imageJ\n",
        "print(Perc_new)\n",
        "print(Perc_value)"
      ],
      "execution_count": 43,
      "outputs": [
        {
          "output_type": "stream",
          "text": [
            "[ 0.          0.          0.          0.          0.          4.21052632\n",
            " 10.52631579 23.15789474 62.10526316]\n",
            "[ 0.          0.          0.          0.          0.          1.36986301\n",
            " 15.06849315 21.91780822 61.64383562]\n"
          ],
          "name": "stdout"
        }
      ]
    },
    {
      "cell_type": "code",
      "metadata": {
        "colab": {
          "base_uri": "https://localhost:8080/",
          "height": 283
        },
        "id": "oAuyxTmrmc9Y",
        "outputId": "249cf76a-4aaf-41ef-dee7-d9b5fc9e8745"
      },
      "source": [
        "plt.plot( Perc_value,Perc_new )"
      ],
      "execution_count": 44,
      "outputs": [
        {
          "output_type": "execute_result",
          "data": {
            "text/plain": [
              "[<matplotlib.lines.Line2D at 0x7fe72f448208>]"
            ]
          },
          "metadata": {
            "tags": []
          },
          "execution_count": 44
        },
        {
          "output_type": "display_data",
          "data": {
            "image/png": "[encoded data removed]",
            "text/plain": [
              "<Figure size 432x288 with 1 Axes>"
            ]
          },
          "metadata": {
            "tags": [],
            "needs_background": "light"
          }
        }
      ]
    },
    {
      "cell_type": "code",
      "metadata": {
        "colab": {
          "base_uri": "https://localhost:8080/",
          "height": 265
        },
        "id": "n1r49MHFvsPP",
        "outputId": "e608ac67-f85d-4c34-f131-de4cd6ea0db7"
      },
      "source": [
        "PSD_comparison = pd.DataFrame({ 'CNN':Perc_value,'ImgJ':Perc_new})\n",
        "ax = PSD_comparison.plot.bar(rot=0)"
      ],
      "execution_count": 45,
      "outputs": [
        {
          "output_type": "display_data",
          "data": {
            "image/png": "[encoded data removed]",
            "text/plain": [
              "<Figure size 432x288 with 1 Axes>"
            ]
          },
          "metadata": {
            "tags": [],
            "needs_background": "light"
          }
        }
      ]
    },
    {
      "cell_type": "code",
      "metadata": {
        "colab": {
          "base_uri": "https://localhost:8080/"
        },
        "id": "sW4TRqxc0Li-",
        "outputId": "fdbed0e0-637f-450a-d4a3-af1f8ee01577"
      },
      "source": [
        "results = smf.ols('ImgJ ~ CNN', data=PSD_comparison).fit()\n",
        "print(results.summary())"
      ],
      "execution_count": 46,
      "outputs": [
        {
          "output_type": "stream",
          "text": [
            "                            OLS Regression Results                            \n",
            "==============================================================================\n",
            "Dep. Variable:                   ImgJ   R-squared:                       0.991\n",
            "Model:                            OLS   Adj. R-squared:                  0.990\n",
            "Method:                 Least Squares   F-statistic:                     777.7\n",
            "Date:                Wed, 18 Nov 2020   Prob (F-statistic):           1.96e-08\n",
            "Time:                        19:29:15   Log-Likelihood:                -18.252\n",
            "No. Observations:                   9   AIC:                             40.50\n",
            "Df Residuals:                       7   BIC:                             40.90\n",
            "Df Model:                           1                                         \n",
            "Covariance Type:            nonrobust                                         \n",
            "==============================================================================\n",
            "                 coef    std err          t      P>|t|      [0.025      0.975]\n",
            "------------------------------------------------------------------------------\n",
            "Intercept      0.0292      0.801      0.036      0.972      -1.864       1.922\n",
            "CNN            0.9974      0.036     27.886      0.000       0.913       1.082\n",
            "==============================================================================\n",
            "Omnibus:                        9.551   Durbin-Watson:                   3.160\n",
            "Prob(Omnibus):                  0.008   Jarque-Bera (JB):                3.380\n",
            "Skew:                          -1.225   Prob(JB):                        0.184\n",
            "Kurtosis:                       4.737   Cond. No.                         25.8\n",
            "==============================================================================\n",
            "\n",
            "Warnings:\n",
            "[1] Standard Errors assume that the covariance matrix of the errors is correctly specified.\n"
          ],
          "name": "stdout"
        },
        {
          "output_type": "stream",
          "text": [
            "/usr/local/lib/python3.6/dist-packages/scipy/stats/stats.py:1535: UserWarning: kurtosistest only valid for n>=20 ... continuing anyway, n=9\n",
            "  \"anyway, n=%i\" % int(n))\n"
          ],
          "name": "stderr"
        }
      ]
    },
    {
      "cell_type": "code",
      "metadata": {
        "id": "6oFgONgYxwp0",
        "colab": {
          "base_uri": "https://localhost:8080/",
          "height": 355
        },
        "outputId": "5d090ff0-2100-4cfd-ed39-48f0b45a83ca"
      },
      "source": [
        "Diam = PSD_value # foto que esta fazendo\n",
        "Diam = Diameter_All # foto que esta fazendo\n",
        "# Diam1  # imageJ\n",
        "\n",
        "plt.hist([Diam,Diam1], 5)"
      ],
      "execution_count": 47,
      "outputs": [
        {
          "output_type": "execute_result",
          "data": {
            "text/plain": [
              "(array([[35., 49., 52., 10.,  0.],\n",
              "        [19., 53., 20.,  1.,  2.]]),\n",
              " array([0.75356807, 1.06634229, 1.37911652, 1.69189074, 2.00466497,\n",
              "        2.31743919]),\n",
              " <a list of 2 Lists of Patches objects>)"
            ]
          },
          "metadata": {
            "tags": []
          },
          "execution_count": 47
        },
        {
          "output_type": "display_data",
          "data": {
            "image/png": "[encoded data removed]",
            "text/plain": [
              "<Figure size 432x288 with 1 Axes>"
            ]
          },
          "metadata": {
            "tags": [],
            "needs_background": "light"
          }
        }
      ]
    },
    {
      "cell_type": "code",
      "metadata": {
        "colab": {
          "base_uri": "https://localhost:8080/",
          "height": 319
        },
        "id": "tyHyHeWfkB4f",
        "outputId": "e0d00365-ecba-4413-8145-5c582fb4bcb9"
      },
      "source": [
        "plt.hist(Diam1, 3)"
      ],
      "execution_count": 48,
      "outputs": [
        {
          "output_type": "execute_result",
          "data": {
            "text/plain": [
              "(array([51., 42.,  2.]),\n",
              " array([0.75356807, 1.27485844, 1.79614882, 2.31743919]),\n",
              " <a list of 3 Patch objects>)"
            ]
          },
          "metadata": {
            "tags": []
          },
          "execution_count": 48
        },
        {
          "output_type": "display_data",
          "data": {
            "image/png": "[encoded data removed]",
            "text/plain": [
              "<Figure size 432x288 with 1 Axes>"
            ]
          },
          "metadata": {
            "tags": [],
            "needs_background": "light"
          }
        }
      ]
    },
    {
      "cell_type": "code",
      "metadata": {
        "id": "Ctf4oExeyz1B",
        "colab": {
          "base_uri": "https://localhost:8080/",
          "height": 283
        },
        "outputId": "c0c0b0e6-2024-4fa9-aa7e-1bd53ab4b476"
      },
      "source": [
        "#plt.plot(Diam)\n",
        "plt.plot(Diameter_All)"
      ],
      "execution_count": 49,
      "outputs": [
        {
          "output_type": "execute_result",
          "data": {
            "text/plain": [
              "[<matplotlib.lines.Line2D at 0x7fe72f130278>]"
            ]
          },
          "metadata": {
            "tags": []
          },
          "execution_count": 49
        },
        {
          "output_type": "display_data",
          "data": {
            "image/png": "[encoded data removed]",
            "text/plain": [
              "<Figure size 432x288 with 1 Axes>"
            ]
          },
          "metadata": {
            "tags": [],
            "needs_background": "light"
          }
        }
      ]
    },
    {
      "cell_type": "code",
      "metadata": {
        "id": "WKwv70Nty2jF",
        "colab": {
          "base_uri": "https://localhost:8080/",
          "height": 283
        },
        "outputId": "009ec92d-8e6a-4956-eb27-c0ad28d9dc4a"
      },
      "source": [
        "plt.plot(Diam1)"
      ],
      "execution_count": 50,
      "outputs": [
        {
          "output_type": "execute_result",
          "data": {
            "text/plain": [
              "[<matplotlib.lines.Line2D at 0x7fe72f10fa58>]"
            ]
          },
          "metadata": {
            "tags": []
          },
          "execution_count": 50
        },
        {
          "output_type": "display_data",
          "data": {
            "image/png": "[encoded data removed]",
            "text/plain": [
              "<Figure size 432x288 with 1 Axes>"
            ]
          },
          "metadata": {
            "tags": [],
            "needs_background": "light"
          }
        }
      ]
    },
    {
      "cell_type": "markdown",
      "metadata": {
        "id": "9Pq4DTm1np4i"
      },
      "source": [
        ""
      ]
    }
  ]
}